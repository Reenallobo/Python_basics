{
 "cells": [
  {
   "cell_type": "code",
   "execution_count": 119,
   "id": "3fda9522-e228-4ad5-9fd7-09c6aa82478d",
   "metadata": {},
   "outputs": [],
   "source": [
    "from collections import defaultdict"
   ]
  },
  {
   "cell_type": "code",
   "execution_count": 439,
   "id": "e35733bb-4a88-4bd9-ba74-6bbd378c4f78",
   "metadata": {},
   "outputs": [],
   "source": [
    "from datetime import datetime"
   ]
  },
  {
   "cell_type": "code",
   "execution_count": 37,
   "id": "d1204f6d-ee65-406f-8484-c992c42069e1",
   "metadata": {},
   "outputs": [],
   "source": [
    "hexNumbers = {\n",
    "    '0': 0, '1': 1, '2': 2, '3': 3, '4': 4, '5': 5, '6': 6, '7': 7, '8': 8, '9': 9,\n",
    "    'A': 10, 'B': 11, 'C': 12, 'D': 13, 'E': 14, 'F': 15\n",
    "}\n",
    "\n",
    "def hexToDec(hexa):\n",
    "    for char in hexa:\n",
    "        if char is not hexNumbers:\n",
    "            return False\n",
    "            \n",
    "    if len(hexa)==3:\n",
    "        Dec=(hexNumbers[hexa[0]]*256)+(hexNumbers[hexa[1]]*16)+(hexNumbers[hexa[2]])\n",
    "    print(Dec)"
   ]
  },
  {
   "cell_type": "code",
   "execution_count": 38,
   "id": "935b0136-1f0f-4850-aa1a-058f3e31ab82",
   "metadata": {},
   "outputs": [
    {
     "data": {
      "text/plain": [
       "False"
      ]
     },
     "execution_count": 38,
     "metadata": {},
     "output_type": "execute_result"
    }
   ],
   "source": [
    "hexToDec('ABC')"
   ]
  },
  {
   "cell_type": "code",
   "execution_count": 46,
   "id": "3af968f0-25f0-4aa4-a858-e6afbd4914ff",
   "metadata": {},
   "outputs": [
    {
     "name": "stdout",
     "output_type": "stream",
     "text": [
      "[1, 2, 3, 4, 5, 6, 7, 5]\n"
     ]
    }
   ],
   "source": [
    "a=[1,2,3,4,5,6,7]\n",
    "b=a\n",
    "a=a.append(5)\n",
    "print(b)"
   ]
  },
  {
   "cell_type": "code",
   "execution_count": 52,
   "id": "0a2fbcf3-826a-4885-8263-b4c742bb2fb0",
   "metadata": {},
   "outputs": [],
   "source": [
    "myset={'a','b','c','d'}\n",
    "myset.add('e')"
   ]
  },
  {
   "cell_type": "code",
   "execution_count": 57,
   "id": "72de283c-147d-442d-8aa3-198a766c943c",
   "metadata": {},
   "outputs": [
    {
     "data": {
      "text/plain": [
       "'a'"
      ]
     },
     "execution_count": 57,
     "metadata": {},
     "output_type": "execute_result"
    }
   ],
   "source": [
    "myset.pop()"
   ]
  },
  {
   "cell_type": "code",
   "execution_count": 58,
   "id": "0fdf909a-99e6-4177-aa6a-e10bf8d94c8f",
   "metadata": {},
   "outputs": [
    {
     "data": {
      "text/plain": [
       "{'b', 'c', 'd'}"
      ]
     },
     "execution_count": 58,
     "metadata": {},
     "output_type": "execute_result"
    }
   ],
   "source": [
    "myset"
   ]
  },
  {
   "cell_type": "code",
   "execution_count": 59,
   "id": "78bb2a99-19e5-4d23-beb0-ff59415f58bc",
   "metadata": {},
   "outputs": [],
   "source": [
    "myset=set(('a','b','c'))"
   ]
  },
  {
   "cell_type": "code",
   "execution_count": 60,
   "id": "208ab3f6-91e8-4c8b-a7ea-751b87059414",
   "metadata": {},
   "outputs": [
    {
     "data": {
      "text/plain": [
       "{'a', 'b', 'c'}"
      ]
     },
     "execution_count": 60,
     "metadata": {},
     "output_type": "execute_result"
    }
   ],
   "source": [
    "myset"
   ]
  },
  {
   "cell_type": "code",
   "execution_count": 65,
   "id": "0c1af669-4c07-415a-9c3b-d8ad76822f34",
   "metadata": {},
   "outputs": [
    {
     "data": {
      "text/plain": [
       "['a', 'b']"
      ]
     },
     "execution_count": 65,
     "metadata": {},
     "output_type": "execute_result"
    }
   ],
   "source": [
    "mylist=['a','a','b']\n",
    "mylist=list(set(mylist))\n",
    "\n",
    "mylist"
   ]
  },
  {
   "cell_type": "code",
   "execution_count": 66,
   "id": "c211eb61-b7c8-46e8-84af-380a4590088c",
   "metadata": {},
   "outputs": [
    {
     "data": {
      "text/plain": [
       "['a', 'b']"
      ]
     },
     "execution_count": 66,
     "metadata": {},
     "output_type": "execute_result"
    }
   ],
   "source": [
    "mylist"
   ]
  },
  {
   "cell_type": "code",
   "execution_count": 67,
   "id": "87a65eb7-5790-45f3-b393-2b8eb5da5f52",
   "metadata": {},
   "outputs": [
    {
     "data": {
      "text/plain": [
       "True"
      ]
     },
     "execution_count": 67,
     "metadata": {},
     "output_type": "execute_result"
    }
   ],
   "source": [
    "'a' in mylist"
   ]
  },
  {
   "cell_type": "code",
   "execution_count": 68,
   "id": "c62e94e8-1cc0-49ca-bb3a-7f33d4eb72cd",
   "metadata": {},
   "outputs": [
    {
     "data": {
      "text/plain": [
       "tuple"
      ]
     },
     "execution_count": 68,
     "metadata": {},
     "output_type": "execute_result"
    }
   ],
   "source": [
    "a= 1,2,3\n",
    "type(a)"
   ]
  },
  {
   "cell_type": "code",
   "execution_count": 69,
   "id": "6076191c-b89f-4ddf-8799-1eeb9d6b9d2f",
   "metadata": {},
   "outputs": [
    {
     "ename": "TypeError",
     "evalue": "'tuple' object does not support item assignment",
     "output_type": "error",
     "traceback": [
      "\u001b[31m---------------------------------------------------------------------------\u001b[39m",
      "\u001b[31mTypeError\u001b[39m                                 Traceback (most recent call last)",
      "\u001b[36mCell\u001b[39m\u001b[36m \u001b[39m\u001b[32mIn[69]\u001b[39m\u001b[32m, line 1\u001b[39m\n\u001b[32m----> \u001b[39m\u001b[32m1\u001b[39m \u001b[43ma\u001b[49m\u001b[43m[\u001b[49m\u001b[32;43m1\u001b[39;49m\u001b[43m]\u001b[49m=\u001b[32m4\u001b[39m\n",
      "\u001b[31mTypeError\u001b[39m: 'tuple' object does not support item assignment"
     ]
    }
   ],
   "source": [
    "a[1]=4"
   ]
  },
  {
   "cell_type": "code",
   "execution_count": 70,
   "id": "ac36dad4-4a6f-4059-be62-57ebe84fe22c",
   "metadata": {},
   "outputs": [],
   "source": [
    "mydict={'a':'apple',\n",
    "        'b':'banana',\n",
    "        'c':'carrot'}"
   ]
  },
  {
   "cell_type": "code",
   "execution_count": 71,
   "id": "18b88345-ffe8-40b0-84fe-0e39280c4b13",
   "metadata": {},
   "outputs": [
    {
     "data": {
      "text/plain": [
       "{'a': 'apple', 'b': 'banana', 'c': 'carrot'}"
      ]
     },
     "execution_count": 71,
     "metadata": {},
     "output_type": "execute_result"
    }
   ],
   "source": [
    "mydict"
   ]
  },
  {
   "cell_type": "code",
   "execution_count": 74,
   "id": "883b161f-6362-4a28-a0f2-32adbb169e57",
   "metadata": {},
   "outputs": [],
   "source": [
    "mydict['a']='avacado'"
   ]
  },
  {
   "cell_type": "code",
   "execution_count": 79,
   "id": "f0aa9246-dcea-49f1-90a9-cf0ae1e68b7e",
   "metadata": {},
   "outputs": [
    {
     "data": {
      "text/plain": [
       "dict_values(['avacado', 'banana', 'carrot'])"
      ]
     },
     "execution_count": 79,
     "metadata": {},
     "output_type": "execute_result"
    }
   ],
   "source": [
    "mydict.values()"
   ]
  },
  {
   "cell_type": "code",
   "execution_count": 85,
   "id": "6b82cd6a-76f0-4690-b006-e847522b9fad",
   "metadata": {},
   "outputs": [
    {
     "data": {
      "text/plain": [
       "'elephant'"
      ]
     },
     "execution_count": 85,
     "metadata": {},
     "output_type": "execute_result"
    }
   ],
   "source": [
    "mydict.get('e','elephant')"
   ]
  },
  {
   "cell_type": "code",
   "execution_count": 87,
   "id": "c2516418-7b78-4e3c-b6a0-fee7ff113db4",
   "metadata": {},
   "outputs": [],
   "source": [
    "mydict.get('e')"
   ]
  },
  {
   "cell_type": "code",
   "execution_count": 92,
   "id": "d1766626-1fb3-4247-b607-40dbf35dd8d2",
   "metadata": {},
   "outputs": [],
   "source": [
    "mylist=list(mydict.values())"
   ]
  },
  {
   "cell_type": "code",
   "execution_count": 93,
   "id": "1189c1f5-809e-4d1f-b8db-1e66cc2ebcc5",
   "metadata": {},
   "outputs": [
    {
     "data": {
      "text/plain": [
       "['avacado', 'banana', 'carrot']"
      ]
     },
     "execution_count": 93,
     "metadata": {},
     "output_type": "execute_result"
    }
   ],
   "source": [
    "mylist"
   ]
  },
  {
   "cell_type": "code",
   "execution_count": 120,
   "id": "f8f78f29-6e99-44e3-893a-dc56ebcdb4ef",
   "metadata": {},
   "outputs": [],
   "source": [
    "mydict={'a':['apple'],\n",
    "        'b':['banana'],\n",
    "        'c':['carrot']}"
   ]
  },
  {
   "cell_type": "code",
   "execution_count": 121,
   "id": "c01cdd41-702d-4cda-8649-8b19fbc37d47",
   "metadata": {},
   "outputs": [
    {
     "data": {
      "text/plain": [
       "dict"
      ]
     },
     "execution_count": 121,
     "metadata": {},
     "output_type": "execute_result"
    }
   ],
   "source": [
    "type(mydict)"
   ]
  },
  {
   "cell_type": "code",
   "execution_count": 122,
   "id": "40b68292-bab5-4816-a1f0-d925aa77cb2b",
   "metadata": {},
   "outputs": [],
   "source": [
    "mydict['a'].append('apple')"
   ]
  },
  {
   "cell_type": "code",
   "execution_count": 161,
   "id": "7ecdd65a-cd92-401d-8896-39bd0cb02de6",
   "metadata": {},
   "outputs": [],
   "source": [
    "mydict['a'].append('frog')"
   ]
  },
  {
   "cell_type": "code",
   "execution_count": 162,
   "id": "e744edd9-e13d-4f74-840b-b95b1ce700d8",
   "metadata": {},
   "outputs": [
    {
     "data": {
      "text/plain": [
       "defaultdict(list,\n",
       "            {'a': ['apple', 'frog'],\n",
       "             'c': ['cat'],\n",
       "             'f': ['frog'],\n",
       "             'm': ['frog']})"
      ]
     },
     "execution_count": 162,
     "metadata": {},
     "output_type": "execute_result"
    }
   ],
   "source": [
    "mydict"
   ]
  },
  {
   "cell_type": "code",
   "execution_count": 124,
   "id": "8845c708-c425-4bb8-9ff8-dcb18fbd9a9e",
   "metadata": {},
   "outputs": [],
   "source": [
    "if 'd' not in mydict:\n",
    "    mydict['d']=[]\n",
    "\n",
    "mydict['d'].append('dog')"
   ]
  },
  {
   "cell_type": "code",
   "execution_count": 125,
   "id": "ccea1675-8849-407b-a367-86ab9b4f018a",
   "metadata": {},
   "outputs": [
    {
     "data": {
      "text/plain": [
       "{'a': ['apple', 'apple'], 'b': ['banana'], 'c': ['carrot'], 'd': ['dog']}"
      ]
     },
     "execution_count": 125,
     "metadata": {},
     "output_type": "execute_result"
    }
   ],
   "source": [
    "mydict"
   ]
  },
  {
   "cell_type": "code",
   "execution_count": 153,
   "id": "124db8ca-5ffc-4fde-8da5-6a9f5c2437e9",
   "metadata": {},
   "outputs": [],
   "source": [
    "mydict=defaultdict(list)\n",
    "mydict['a'].append('apple')\n"
   ]
  },
  {
   "cell_type": "code",
   "execution_count": 154,
   "id": "c69d7074-1ffc-4398-b97a-7c2cae46173e",
   "metadata": {},
   "outputs": [
    {
     "data": {
      "text/plain": [
       "defaultdict(list, {'a': ['apple']})"
      ]
     },
     "execution_count": 154,
     "metadata": {},
     "output_type": "execute_result"
    }
   ],
   "source": [
    "mydict"
   ]
  },
  {
   "cell_type": "code",
   "execution_count": 155,
   "id": "033b92bf-e849-425c-b222-7cd428a540b5",
   "metadata": {},
   "outputs": [],
   "source": [
    "mydict['c'].append('cat')"
   ]
  },
  {
   "cell_type": "code",
   "execution_count": 156,
   "id": "90912311-fb67-4d16-8025-888edf81b05b",
   "metadata": {},
   "outputs": [
    {
     "data": {
      "text/plain": [
       "defaultdict(list, {'a': ['apple'], 'c': ['cat']})"
      ]
     },
     "execution_count": 156,
     "metadata": {},
     "output_type": "execute_result"
    }
   ],
   "source": [
    "mydict"
   ]
  },
  {
   "cell_type": "code",
   "execution_count": 164,
   "id": "581477c6-b803-46aa-81eb-197fa813c695",
   "metadata": {},
   "outputs": [
    {
     "name": "stdout",
     "output_type": "stream",
     "text": [
      "2\n",
      "4\n",
      "6\n",
      "8\n",
      "10\n"
     ]
    }
   ],
   "source": [
    "mylist=[1,2,3,4,5]\n",
    "for item in mylist:\n",
    "    print(2*item)"
   ]
  },
  {
   "cell_type": "code",
   "execution_count": 165,
   "id": "9e7d7b2d-d9bd-4d72-baf9-fb2ca39fb47d",
   "metadata": {},
   "outputs": [
    {
     "data": {
      "text/plain": [
       "[2, 4, 6, 8, 10]"
      ]
     },
     "execution_count": 165,
     "metadata": {},
     "output_type": "execute_result"
    }
   ],
   "source": [
    "mylist=[1,2,3,4,5]\n",
    "[2*item for item in mylist]"
   ]
  },
  {
   "cell_type": "code",
   "execution_count": 191,
   "id": "d77aea2b-89ea-43c9-8b55-4264d37a72ac",
   "metadata": {},
   "outputs": [
    {
     "data": {
      "text/plain": [
       "[0, 10, 20, 30, 40]"
      ]
     },
     "execution_count": 191,
     "metadata": {},
     "output_type": "execute_result"
    }
   ],
   "source": [
    "mylist=list(range(50))\n",
    "[item for item in mylist if item % 10==0]"
   ]
  },
  {
   "cell_type": "code",
   "execution_count": 207,
   "id": "c43b3f69-b0fa-4e74-b605-6bc991df3af7",
   "metadata": {},
   "outputs": [],
   "source": [
    "mystring='AAABBCC'\n",
    "[item for item in mystring]\n",
    "mylist=mystring.split('.')"
   ]
  },
  {
   "cell_type": "code",
   "execution_count": 209,
   "id": "53741b86-a33c-4151-a67b-864510c1f52a",
   "metadata": {},
   "outputs": [
    {
     "data": {
      "text/plain": [
       "'AAA'"
      ]
     },
     "execution_count": 209,
     "metadata": {},
     "output_type": "execute_result"
    }
   ],
   "source": [
    "mylist[0]"
   ]
  },
  {
   "cell_type": "code",
   "execution_count": 220,
   "id": "6e561a1a-f9a8-4536-ab84-6231d3d3fe6e",
   "metadata": {},
   "outputs": [
    {
     "data": {
      "text/plain": [
       "['aaabbcc', 'c']"
      ]
     },
     "execution_count": 220,
     "metadata": {},
     "output_type": "execute_result"
    }
   ],
   "source": [
    "mystring='AAA.BBCc c'\n",
    "mystring.replace('.','').lower().split()"
   ]
  },
  {
   "cell_type": "code",
   "execution_count": 224,
   "id": "d9618301-9ef9-4684-9f09-b34a78c3bcdb",
   "metadata": {},
   "outputs": [],
   "source": []
  },
  {
   "cell_type": "code",
   "execution_count": 228,
   "id": "29febacd-db0a-49eb-9250-e5cb69045ecd",
   "metadata": {},
   "outputs": [
    {
     "data": {
      "text/plain": [
       "['all', 'is', 'well']"
      ]
     },
     "execution_count": 228,
     "metadata": {},
     "output_type": "execute_result"
    }
   ],
   "source": [
    "def cleanword(word):\n",
    "    return word.replace('.','').lower()\n",
    "\n",
    "[cleanword(word) for word in mystring.split()]"
   ]
  },
  {
   "cell_type": "code",
   "execution_count": 248,
   "id": "6702d393-7093-4cfe-918c-be649cc0b2e8",
   "metadata": {},
   "outputs": [],
   "source": [
    "mystring='I am a good! girl. WWhy'"
   ]
  },
  {
   "cell_type": "code",
   "execution_count": 249,
   "id": "528666d5-d7ca-480b-9b3b-e4f6dfacbc9c",
   "metadata": {},
   "outputs": [
    {
     "data": {
      "text/plain": [
       "[['i', 'am', 'a', 'good'], ['girl', 'wwhy']]"
      ]
     },
     "execution_count": 249,
     "metadata": {},
     "output_type": "execute_result"
    }
   ],
   "source": [
    "def cleanword(word):\n",
    "    return word.replace('.','').lower()\n",
    "\n",
    "[[cleanword(word) for word in sentence.split()]for sentence in mystring.split('!')]"
   ]
  },
  {
   "cell_type": "code",
   "execution_count": 235,
   "id": "56b03d07-f7bc-41b0-a1bb-2ae1ab149626",
   "metadata": {},
   "outputs": [
    {
     "data": {
      "text/plain": [
       "['is']"
      ]
     },
     "execution_count": 235,
     "metadata": {},
     "output_type": "execute_result"
    }
   ],
   "source": [
    "def cleanword(word):\n",
    "    return word.replace('.','').lower()\n",
    "\n",
    "[cleanword(word) for word in mystring.split() if len(cleanword(word))<3]"
   ]
  },
  {
   "cell_type": "code",
   "execution_count": 242,
   "id": "af09fe33-30f4-4075-96c0-0f9cd817931f",
   "metadata": {},
   "outputs": [
    {
     "ename": "AttributeError",
     "evalue": "'list' object has no attribute 'split'",
     "output_type": "error",
     "traceback": [
      "\u001b[31m---------------------------------------------------------------------------\u001b[39m",
      "\u001b[31mAttributeError\u001b[39m                            Traceback (most recent call last)",
      "\u001b[36mCell\u001b[39m\u001b[36m \u001b[39m\u001b[32mIn[242]\u001b[39m\u001b[32m, line 2\u001b[39m\n\u001b[32m      1\u001b[39m mystring=\u001b[33m'\u001b[39m\u001b[33mI am a good girl.why\u001b[39m\u001b[33m'\u001b[39m\n\u001b[32m----> \u001b[39m\u001b[32m2\u001b[39m mylist=\u001b[43mmystring\u001b[49m\u001b[43m.\u001b[49m\u001b[43msplit\u001b[49m\u001b[43m(\u001b[49m\u001b[33;43m'\u001b[39;49m\u001b[33;43m.\u001b[39;49m\u001b[33;43m'\u001b[39;49m\u001b[43m)\u001b[49m\u001b[43m.\u001b[49m\u001b[43msplit\u001b[49m()\n",
      "\u001b[31mAttributeError\u001b[39m: 'list' object has no attribute 'split'"
     ]
    }
   ],
   "source": [
    "\n",
    "mylist=mystring.split('.')"
   ]
  },
  {
   "cell_type": "code",
   "execution_count": 241,
   "id": "b436669c-867b-463e-a25e-4ba4aae949cd",
   "metadata": {},
   "outputs": [
    {
     "data": {
      "text/plain": [
       "'I am a good girl'"
      ]
     },
     "execution_count": 241,
     "metadata": {},
     "output_type": "execute_result"
    }
   ],
   "source": [
    "mylist[0]"
   ]
  },
  {
   "cell_type": "code",
   "execution_count": 255,
   "id": "1250098d-d703-4c0a-93bb-2f4bb32cbabc",
   "metadata": {},
   "outputs": [],
   "source": [
    "a={'a':'apple',\n",
    "   'b':'ball',\n",
    "   'c':'cat'}"
   ]
  },
  {
   "cell_type": "code",
   "execution_count": 261,
   "id": "47bd24f1-f5b6-440f-92d2-46ec3dcd6358",
   "metadata": {},
   "outputs": [
    {
     "ename": "AttributeError",
     "evalue": "'str' object has no attribute 'add'",
     "output_type": "error",
     "traceback": [
      "\u001b[31m---------------------------------------------------------------------------\u001b[39m",
      "\u001b[31mAttributeError\u001b[39m                            Traceback (most recent call last)",
      "\u001b[36mCell\u001b[39m\u001b[36m \u001b[39m\u001b[32mIn[261]\u001b[39m\u001b[32m, line 1\u001b[39m\n\u001b[32m----> \u001b[39m\u001b[32m1\u001b[39m \u001b[43ma\u001b[49m\u001b[43m[\u001b[49m\u001b[33;43m'\u001b[39;49m\u001b[33;43ma\u001b[39;49m\u001b[33;43m'\u001b[39;49m\u001b[43m]\u001b[49m\u001b[43m.\u001b[49m\u001b[43madd\u001b[49m(\u001b[33m'\u001b[39m\u001b[33manimal\u001b[39m\u001b[33m'\u001b[39m)\n",
      "\u001b[31mAttributeError\u001b[39m: 'str' object has no attribute 'add'"
     ]
    }
   ],
   "source": [
    "a['a'].add('animal')"
   ]
  },
  {
   "cell_type": "code",
   "execution_count": 259,
   "id": "80104ee1-a375-4256-b8c2-f9dd520bfa7e",
   "metadata": {},
   "outputs": [
    {
     "data": {
      "text/plain": [
       "{'a': 'avacado', 'b': 'ball', 'c': 'cat'}"
      ]
     },
     "execution_count": 259,
     "metadata": {},
     "output_type": "execute_result"
    }
   ],
   "source": [
    "a"
   ]
  },
  {
   "cell_type": "code",
   "execution_count": 279,
   "id": "e0bfb064-3153-4d9f-a9af-7100ee5c0f13",
   "metadata": {},
   "outputs": [],
   "source": [
    "ListTuples=[('a','apple'),('b','ball'),('c','cat')]"
   ]
  },
  {
   "cell_type": "code",
   "execution_count": 280,
   "id": "90f675f1-ae4f-423c-988e-3c9dca464d9e",
   "metadata": {},
   "outputs": [
    {
     "data": {
      "text/plain": [
       "list"
      ]
     },
     "execution_count": 280,
     "metadata": {},
     "output_type": "execute_result"
    }
   ],
   "source": [
    "type(ListTuples)"
   ]
  },
  {
   "cell_type": "code",
   "execution_count": 283,
   "id": "911b8a4a-830a-4fcb-a79b-fb148cb2a083",
   "metadata": {},
   "outputs": [],
   "source": [
    "myDict={item[0]:item[1] for item in ListTuples}"
   ]
  },
  {
   "cell_type": "code",
   "execution_count": 284,
   "id": "18d5a108-c83e-4c8e-a5bc-149bb516cf30",
   "metadata": {},
   "outputs": [
    {
     "data": {
      "text/plain": [
       "{'a': 'apple', 'b': 'ball', 'c': 'cat'}"
      ]
     },
     "execution_count": 284,
     "metadata": {},
     "output_type": "execute_result"
    }
   ],
   "source": [
    "myDict"
   ]
  },
  {
   "cell_type": "code",
   "execution_count": 285,
   "id": "975cba50-1862-40c8-86db-3bb7cb969de9",
   "metadata": {},
   "outputs": [],
   "source": [
    "myDict_1={key:value for key,value in ListTuples}"
   ]
  },
  {
   "cell_type": "code",
   "execution_count": 316,
   "id": "86bfebc6-10c1-447f-aeb6-1b0d0058494c",
   "metadata": {},
   "outputs": [
    {
     "data": {
      "text/plain": [
       "[('a', 'apple'), ('b', 'ball'), ('c', 'cat')]"
      ]
     },
     "execution_count": 316,
     "metadata": {},
     "output_type": "execute_result"
    }
   ],
   "source": [
    "\n",
    "list(myDict_1.items())"
   ]
  },
  {
   "cell_type": "code",
   "execution_count": 290,
   "id": "3e9e0cc1-daba-4c62-8f76-21217c9f1a5a",
   "metadata": {},
   "outputs": [],
   "source": [
    "ListTuples=[('4','A'),('2','B'),('3','C')]"
   ]
  },
  {
   "cell_type": "code",
   "execution_count": 320,
   "id": "58830b12-21d4-4ebb-89f4-1a1be564c069",
   "metadata": {},
   "outputs": [],
   "source": [
    "mylist_1=[int(item[0])*item[1] for item in ListTuples]"
   ]
  },
  {
   "cell_type": "code",
   "execution_count": 321,
   "id": "f59ea70f-8500-413b-8973-4fe73f852ce4",
   "metadata": {},
   "outputs": [
    {
     "data": {
      "text/plain": [
       "'AAAABBCCC'"
      ]
     },
     "execution_count": 321,
     "metadata": {},
     "output_type": "execute_result"
    }
   ],
   "source": [
    "mylist_1[0]+mylist_1[1]+mylist_1[2]"
   ]
  },
  {
   "cell_type": "code",
   "execution_count": 313,
   "id": "f2d6101c-bc8e-4215-b9d4-e658d238e0bf",
   "metadata": {},
   "outputs": [
    {
     "data": {
      "text/plain": [
       "{'a': '1', 'b': '1', 'c': '1'}"
      ]
     },
     "execution_count": 313,
     "metadata": {},
     "output_type": "execute_result"
    }
   ],
   "source": [
    "mylist_2=[('a','1','2'),('b','1','2'),('c','1','2')]\n",
    "{key:value for key,value,value1 in mylist_2}"
   ]
  },
  {
   "cell_type": "code",
   "execution_count": 319,
   "id": "6cd88784-010c-4c04-931f-84c4f4963817",
   "metadata": {},
   "outputs": [
    {
     "data": {
      "text/plain": [
       "[{'letter': 'a', 'name': 'apple'},\n",
       " {'letter': 'b', 'name': 'ball'},\n",
       " {'letter': 'c', 'name': 'cat'}]"
      ]
     },
     "execution_count": 319,
     "metadata": {},
     "output_type": "execute_result"
    }
   ],
   "source": [
    "[{'letter':key,'name':value }for key,value in myDict.items()]"
   ]
  },
  {
   "cell_type": "code",
   "execution_count": 324,
   "id": "a014a2ff-02e0-4a5c-8acc-4519427fdb43",
   "metadata": {},
   "outputs": [
    {
     "data": {
      "text/plain": [
       "'WWWWW11'"
      ]
     },
     "execution_count": 324,
     "metadata": {},
     "output_type": "execute_result"
    }
   ],
   "source": [
    "def decodeString(encodedList):\n",
    "    mylist_1=[item[1]*item[0] for item in encodedList]\n",
    "    return mylist_1[0]+mylist_1[1]\n",
    "\n",
    "decodeString([('W',5),('1',2)])"
   ]
  },
  {
   "cell_type": "code",
   "execution_count": 370,
   "id": "04a8aab2-a058-4680-9751-37bf387b4974",
   "metadata": {},
   "outputs": [],
   "source": [
    "def encodeString(decodedString):\n",
    "    counter=0\n",
    "    \n",
    "    \n",
    "    \n",
    "    [i for i in decodedString if decodedString[i]==decodedString[i+1]]\n",
    "    counter+=1\n",
    "\n",
    "\n",
    "            \n",
    "    return [(decodedString[i],counter+1)]\n",
    "\n",
    "\n"
   ]
  },
  {
   "cell_type": "code",
   "execution_count": 371,
   "id": "5ecdf0d9-ad2d-4ee9-8cac-972f6c985709",
   "metadata": {},
   "outputs": [
    {
     "ename": "TypeError",
     "evalue": "string indices must be integers, not 'str'",
     "output_type": "error",
     "traceback": [
      "\u001b[31m---------------------------------------------------------------------------\u001b[39m",
      "\u001b[31mTypeError\u001b[39m                                 Traceback (most recent call last)",
      "\u001b[36mCell\u001b[39m\u001b[36m \u001b[39m\u001b[32mIn[371]\u001b[39m\u001b[32m, line 1\u001b[39m\n\u001b[32m----> \u001b[39m\u001b[32m1\u001b[39m \u001b[43mencodeString\u001b[49m\u001b[43m(\u001b[49m\u001b[33;43m'\u001b[39;49m\u001b[33;43mAAAABBBCCC\u001b[39;49m\u001b[33;43m'\u001b[39;49m\u001b[43m)\u001b[49m\n",
      "\u001b[36mCell\u001b[39m\u001b[36m \u001b[39m\u001b[32mIn[370]\u001b[39m\u001b[32m, line 6\u001b[39m, in \u001b[36mencodeString\u001b[39m\u001b[34m(decodedString)\u001b[39m\n\u001b[32m      1\u001b[39m \u001b[38;5;28;01mdef\u001b[39;00m\u001b[38;5;250m \u001b[39m\u001b[34mencodeString\u001b[39m(decodedString):\n\u001b[32m      2\u001b[39m     counter=\u001b[32m0\u001b[39m\n\u001b[32m----> \u001b[39m\u001b[32m6\u001b[39m     [i \u001b[38;5;28;01mfor\u001b[39;00m i \u001b[38;5;129;01min\u001b[39;00m decodedString \u001b[38;5;28;01mif\u001b[39;00m \u001b[43mdecodedString\u001b[49m\u001b[43m[\u001b[49m\u001b[43mi\u001b[49m\u001b[43m]\u001b[49m==decodedString[i+\u001b[32m1\u001b[39m]]\n\u001b[32m      7\u001b[39m     counter+=\u001b[32m1\u001b[39m\n\u001b[32m     11\u001b[39m     \u001b[38;5;28;01mreturn\u001b[39;00m [(decodedString[i],counter+\u001b[32m1\u001b[39m)]\n",
      "\u001b[31mTypeError\u001b[39m: string indices must be integers, not 'str'"
     ]
    }
   ],
   "source": [
    "encodeString('AAAABBBCCC')"
   ]
  },
  {
   "cell_type": "code",
   "execution_count": 391,
   "id": "cde44683-ba8a-406f-b088-9217089f70a3",
   "metadata": {},
   "outputs": [
    {
     "name": "stdout",
     "output_type": "stream",
     "text": [
      "new character:A\n",
      "new character:B\n",
      "new character:C\n",
      "[('C', 4)]\n"
     ]
    }
   ],
   "source": [
    "stringVal = 'AABBCC'\n",
    "counter=1\n",
    "prevChar=None\n",
    "for char in stringVal:\n",
    "    if char!=prevChar: \n",
    "        print(f'new character:{char}')\n",
    "    prevChar=char\n",
    "    \n",
    "\n"
   ]
  },
  {
   "cell_type": "code",
   "execution_count": 436,
   "id": "547f934f-755e-4840-a704-2464acb49a37",
   "metadata": {},
   "outputs": [
    {
     "data": {
      "text/plain": [
       "'wwwwwxxxx'"
      ]
     },
     "execution_count": 436,
     "metadata": {},
     "output_type": "execute_result"
    }
   ],
   "source": [
    "def encodeString(stringVal):\n",
    "    encodedValue=[]\n",
    "    count=0\n",
    "    prevChar=stringVal[0]\n",
    "    for char in stringVal:\n",
    "        if prevChar!= char:\n",
    "            encodedValue.append((prevChar,count))\n",
    "            count=0 \n",
    "        prevChar=char\n",
    "        count+=1\n",
    "    encodedValue.append((prevChar,count))\n",
    "    return encodedValue\n",
    "\n",
    "encodeString('AABBCC')\n",
    "\n",
    "\n",
    "def decodeString(encodedList):\n",
    "    decodedstring=''\n",
    "    for item in encodedList:\n",
    "        decodedstring=decodedstring+(item[0]*item[1])\n",
    "    return decodedstring\n",
    "\n",
    "decodeString([('w',5),('x',4)])"
   ]
  },
  {
   "cell_type": "code",
   "execution_count": null,
   "id": "5dfa57ac-e19f-47ff-9321-e3bb8773bccb",
   "metadata": {
    "scrolled": true
   },
   "outputs": [],
   "source": [
    "['Friz' if n%5==0 else 'Brizz' if n%10==0 else 'Crizz' if n%20==0 else n for n in range(100)]"
   ]
  },
  {
   "cell_type": "code",
   "execution_count": null,
   "id": "be3280dd-775e-49fe-a0bf-9c2c51a7bbcb",
   "metadata": {},
   "outputs": [],
   "source": [
    " "
   ]
  }
 ],
 "metadata": {
  "kernelspec": {
   "display_name": "Python 3 (ipykernel)",
   "language": "python",
   "name": "python3"
  },
  "language_info": {
   "codemirror_mode": {
    "name": "ipython",
    "version": 3
   },
   "file_extension": ".py",
   "mimetype": "text/x-python",
   "name": "python",
   "nbconvert_exporter": "python",
   "pygments_lexer": "ipython3",
   "version": "3.13.2"
  }
 },
 "nbformat": 4,
 "nbformat_minor": 5
}
