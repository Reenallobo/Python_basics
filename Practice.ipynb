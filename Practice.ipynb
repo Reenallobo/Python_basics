{
 "cells": [
  {
   "cell_type": "markdown",
   "id": "db2975a4-0e67-4760-a3d4-a1c125aeff52",
   "metadata": {},
   "source": [
    "#"
   ]
  },
  {
   "cell_type": "markdown",
   "id": "a614aeea-cb47-414f-84f6-2d00f2bfd141",
   "metadata": {},
   "source": [
    "| I AM | STRONG  |\n",
    "|------|------|\n",
    "|   I AM | CAPABLE|\n"
   ]
  },
  {
   "cell_type": "code",
   "execution_count": 3,
   "id": "f4ce167c-215c-4416-9b8d-dcede9e41fa9",
   "metadata": {},
   "outputs": [
    {
     "name": "stdout",
     "output_type": "stream",
     "text": [
      "a\n"
     ]
    }
   ],
   "source": [
    "print('a')"
   ]
  },
  {
   "cell_type": "code",
   "execution_count": null,
   "id": "4772f9fb-10fb-4f77-bf2a-251c831045dc",
   "metadata": {},
   "outputs": [],
   "source": []
  },
  {
   "cell_type": "code",
   "execution_count": 4,
   "id": "2ad3941f-e0e2-4ff9-a339-26d905981a74",
   "metadata": {},
   "outputs": [],
   "source": [
    "name=\"Reenal\""
   ]
  },
  {
   "cell_type": "code",
   "execution_count": 9,
   "id": "5f4ff0b3-6bf8-4833-b4f6-bcdd6fa0608e",
   "metadata": {},
   "outputs": [],
   "source": [
    "list_1 = ['a', 1,2]"
   ]
  },
  {
   "cell_type": "code",
   "execution_count": 11,
   "id": "05c352fd-3a32-44da-a9dd-a894d146d655",
   "metadata": {},
   "outputs": [
    {
     "data": {
      "text/plain": [
       "'a'"
      ]
     },
     "execution_count": 11,
     "metadata": {},
     "output_type": "execute_result"
    }
   ],
   "source": [
    "list_1[0]"
   ]
  },
  {
   "cell_type": "code",
   "execution_count": 13,
   "id": "2e3b714c-8a3c-4990-bcc8-d9eb8baf406e",
   "metadata": {},
   "outputs": [],
   "source": [
    "list_1= [[1,2,3],'a',['a']]"
   ]
  },
  {
   "cell_type": "code",
   "execution_count": 14,
   "id": "a3a9f747-c147-4930-aa56-2b7d99cf2cb6",
   "metadata": {
    "scrolled": true
   },
   "outputs": [
    {
     "data": {
      "text/plain": [
       "3"
      ]
     },
     "execution_count": 14,
     "metadata": {},
     "output_type": "execute_result"
    }
   ],
   "source": [
    "len(list_1)"
   ]
  },
  {
   "cell_type": "code",
   "execution_count": 17,
   "id": "b1e2f509-0f37-49ff-977d-4531995fafab",
   "metadata": {},
   "outputs": [],
   "source": [
    "m_name= {1,1,2,3}"
   ]
  },
  {
   "cell_type": "code",
   "execution_count": 18,
   "id": "ae454e92-35e9-427b-ae6b-f9f5d035881c",
   "metadata": {},
   "outputs": [
    {
     "data": {
      "text/plain": [
       "set"
      ]
     },
     "execution_count": 18,
     "metadata": {},
     "output_type": "execute_result"
    }
   ],
   "source": [
    "type(m_name)"
   ]
  },
  {
   "cell_type": "code",
   "execution_count": 20,
   "id": "ab84722a-2ff0-4478-9632-1e82f4fc24ec",
   "metadata": {},
   "outputs": [
    {
     "data": {
      "text/plain": [
       "3"
      ]
     },
     "execution_count": 20,
     "metadata": {},
     "output_type": "execute_result"
    }
   ],
   "source": [
    "len(m_name)"
   ]
  },
  {
   "cell_type": "code",
   "execution_count": 21,
   "id": "43a5d92c-e9e0-401d-8826-a275d80e6452",
   "metadata": {},
   "outputs": [
    {
     "name": "stdout",
     "output_type": "stream",
     "text": [
      "{1, 2, 3}\n"
     ]
    }
   ],
   "source": [
    "print(m_name)"
   ]
  },
  {
   "cell_type": "code",
   "execution_count": 23,
   "id": "f2157db7-25c8-45d9-84f8-c9460d460a4e",
   "metadata": {},
   "outputs": [],
   "source": [
    "my_tuple=(1,2,3)"
   ]
  },
  {
   "cell_type": "code",
   "execution_count": 24,
   "id": "57c0770e-5b2d-498d-a5de-a98353d39d67",
   "metadata": {},
   "outputs": [
    {
     "data": {
      "text/plain": [
       "3"
      ]
     },
     "execution_count": 24,
     "metadata": {},
     "output_type": "execute_result"
    }
   ],
   "source": [
    "len(my_tuple)"
   ]
  },
  {
   "cell_type": "code",
   "execution_count": 25,
   "id": "1ad58e60-91bc-4fbe-b6fd-d947379930aa",
   "metadata": {},
   "outputs": [
    {
     "data": {
      "text/plain": [
       "1"
      ]
     },
     "execution_count": 25,
     "metadata": {},
     "output_type": "execute_result"
    }
   ],
   "source": [
    "my_tuple[0]"
   ]
  },
  {
   "cell_type": "code",
   "execution_count": 26,
   "id": "c49d4e97-24a5-4f10-ac2e-0a9bbfbe1523",
   "metadata": {},
   "outputs": [
    {
     "ename": "AttributeError",
     "evalue": "'tuple' object has no attribute 'append'",
     "output_type": "error",
     "traceback": [
      "\u001b[31m---------------------------------------------------------------------------\u001b[39m",
      "\u001b[31mAttributeError\u001b[39m                            Traceback (most recent call last)",
      "\u001b[36mCell\u001b[39m\u001b[36m \u001b[39m\u001b[32mIn[26]\u001b[39m\u001b[32m, line 1\u001b[39m\n\u001b[32m----> \u001b[39m\u001b[32m1\u001b[39m \u001b[43mmy_tuple\u001b[49m\u001b[43m.\u001b[49m\u001b[43mappend\u001b[49m(\u001b[32m1\u001b[39m)\n",
      "\u001b[31mAttributeError\u001b[39m: 'tuple' object has no attribute 'append'"
     ]
    }
   ],
   "source": [
    "my_tuple.append(1)"
   ]
  },
  {
   "cell_type": "code",
   "execution_count": 27,
   "id": "7e92918e-520d-4f27-9c31-210fb694b006",
   "metadata": {},
   "outputs": [
    {
     "ename": "AttributeError",
     "evalue": "'set' object has no attribute 'append'",
     "output_type": "error",
     "traceback": [
      "\u001b[31m---------------------------------------------------------------------------\u001b[39m",
      "\u001b[31mAttributeError\u001b[39m                            Traceback (most recent call last)",
      "\u001b[36mCell\u001b[39m\u001b[36m \u001b[39m\u001b[32mIn[27]\u001b[39m\u001b[32m, line 1\u001b[39m\n\u001b[32m----> \u001b[39m\u001b[32m1\u001b[39m \u001b[43mm_name\u001b[49m\u001b[43m.\u001b[49m\u001b[43mappend\u001b[49m(\u001b[32m1\u001b[39m)\n",
      "\u001b[31mAttributeError\u001b[39m: 'set' object has no attribute 'append'"
     ]
    }
   ],
   "source": [
    "m_name.append(1)"
   ]
  },
  {
   "cell_type": "code",
   "execution_count": 28,
   "id": "c96b10c0-c10d-4240-ba47-1adea14318d1",
   "metadata": {},
   "outputs": [],
   "source": [
    "list_1.append([1,2,3])"
   ]
  },
  {
   "cell_type": "code",
   "execution_count": 29,
   "id": "6db18fe8-0261-4d8d-98a1-82edd29aa26b",
   "metadata": {},
   "outputs": [
    {
     "data": {
      "text/plain": [
       "[[1, 2, 3], 'a', ['a'], [1, 2, 3]]"
      ]
     },
     "execution_count": 29,
     "metadata": {},
     "output_type": "execute_result"
    }
   ],
   "source": [
    "list_1"
   ]
  },
  {
   "cell_type": "code",
   "execution_count": 43,
   "id": "57a67ef5-ac86-451b-b780-ce4571b08912",
   "metadata": {},
   "outputs": [],
   "source": [
    "my_dictionary = {'a':'I love you', 'b':'i hate you'}"
   ]
  },
  {
   "cell_type": "code",
   "execution_count": 46,
   "id": "8ada68e4-ff71-4ce3-86ba-667571b7de5f",
   "metadata": {},
   "outputs": [
    {
     "data": {
      "text/plain": [
       "'I love you'"
      ]
     },
     "execution_count": 46,
     "metadata": {},
     "output_type": "execute_result"
    }
   ],
   "source": [
    "my_dictionary['a']"
   ]
  },
  {
   "cell_type": "code",
   "execution_count": 36,
   "id": "bc181d4f-d355-41fd-b97c-2b4eb08ff7d0",
   "metadata": {},
   "outputs": [
    {
     "data": {
      "text/plain": [
       "'a'"
      ]
     },
     "execution_count": 36,
     "metadata": {},
     "output_type": "execute_result"
    }
   ],
   "source": [
    "'a'"
   ]
  },
  {
   "cell_type": "code",
   "execution_count": 47,
   "id": "05b6919e-bf0b-4099-965b-a639edadb49d",
   "metadata": {},
   "outputs": [
    {
     "data": {
      "text/plain": [
       "dict"
      ]
     },
     "execution_count": 47,
     "metadata": {},
     "output_type": "execute_result"
    }
   ],
   "source": [
    "type(my_dictionary)"
   ]
  },
  {
   "cell_type": "code",
   "execution_count": 48,
   "id": "63350826-90af-424c-a8a2-b3323d641a55",
   "metadata": {},
   "outputs": [
    {
     "data": {
      "text/plain": [
       "False"
      ]
     },
     "execution_count": 48,
     "metadata": {},
     "output_type": "execute_result"
    }
   ],
   "source": [
    "not True"
   ]
  },
  {
   "cell_type": "code",
   "execution_count": 50,
   "id": "709275fb-22ca-40e4-86ab-31785500e1e2",
   "metadata": {},
   "outputs": [
    {
     "data": {
      "text/plain": [
       "False"
      ]
     },
     "execution_count": 50,
     "metadata": {},
     "output_type": "execute_result"
    }
   ],
   "source": [
    "'cat' not in 'caten'"
   ]
  },
  {
   "cell_type": "code",
   "execution_count": 74,
   "id": "3987c9bc-9963-4359-adb8-c61197025bed",
   "metadata": {},
   "outputs": [],
   "source": [
    "ap={'a':'i love u','b':'i hate u'}\n",
    "for char in ap:\n",
    "    ap[char]\n"
   ]
  },
  {
   "cell_type": "code",
   "execution_count": 69,
   "id": "9ea12fd5-73bb-48dd-a6f1-62a16abee3f0",
   "metadata": {},
   "outputs": [
    {
     "data": {
      "text/plain": [
       "'a'"
      ]
     },
     "execution_count": 69,
     "metadata": {},
     "output_type": "execute_result"
    }
   ],
   "source": [
    "'a'"
   ]
  },
  {
   "cell_type": "code",
   "execution_count": 77,
   "id": "3c41e365-ba01-4dfb-ad27-d6d55496bb3f",
   "metadata": {},
   "outputs": [
    {
     "name": "stdout",
     "output_type": "stream",
     "text": [
      "1\n",
      "2\n",
      "3\n",
      "4\n",
      "5\n"
     ]
    }
   ],
   "source": [
    "list_1=[1,2,3,4,5]\n",
    "for a in list_1:\n",
    "    print(a)\n",
    "    "
   ]
  },
  {
   "cell_type": "code",
   "execution_count": 80,
   "id": "877cbee9-0406-4cec-9865-04cde2db3b82",
   "metadata": {},
   "outputs": [
    {
     "data": {
      "text/plain": [
       "True"
      ]
     },
     "execution_count": 80,
     "metadata": {},
     "output_type": "execute_result"
    }
   ],
   "source": [
    "5 in list_1"
   ]
  },
  {
   "cell_type": "code",
   "execution_count": 84,
   "id": "bd9039a0-a744-405e-9468-24f3700a3499",
   "metadata": {},
   "outputs": [
    {
     "name": "stdout",
     "output_type": "stream",
     "text": [
      "1\n",
      "2\n",
      "3\n",
      "4\n"
     ]
    }
   ],
   "source": [
    "a=1\n",
    "while (a<5):\n",
    "    print (a)\n",
    "    a+=1\n"
   ]
  },
  {
   "cell_type": "code",
   "execution_count": 90,
   "id": "74b5197e-bf95-41dc-be53-062df09e7056",
   "metadata": {},
   "outputs": [
    {
     "name": "stdout",
     "output_type": "stream",
     "text": [
      "45\n"
     ]
    }
   ],
   "source": [
    "def mulbythree(val):\n",
    "    return(val*3)\n",
    "\n",
    "x= mulbythree(3)\n",
    "print(x*5)"
   ]
  },
  {
   "cell_type": "code",
   "execution_count": 95,
   "id": "83c7024d-b279-4d7a-a8af-6656a3db9e56",
   "metadata": {},
   "outputs": [],
   "source": [
    "my_list=[1,2,3,4]\n",
    "\n",
    "def appendMyList():\n",
    "    my_list.append(5)\n",
    "\n",
    "appendMyList()"
   ]
  },
  {
   "cell_type": "code",
   "execution_count": 96,
   "id": "42c60ece-8b98-48a4-99c5-8908d36c4316",
   "metadata": {},
   "outputs": [
    {
     "data": {
      "text/plain": [
       "[1, 2, 3, 4, 5]"
      ]
     },
     "execution_count": 96,
     "metadata": {},
     "output_type": "execute_result"
    }
   ],
   "source": [
    "my_list"
   ]
  },
  {
   "cell_type": "code",
   "execution_count": 101,
   "id": "81fd0b8f-380b-456e-8028-08c930514e05",
   "metadata": {},
   "outputs": [],
   "source": [
    "class Dog:\n",
    "    def __init__(self,name):\n",
    "        self.name = name\n",
    "\n",
    "    def bark(self):\n",
    "        print(self.name + ' says woof woof!')"
   ]
  },
  {
   "cell_type": "code",
   "execution_count": 102,
   "id": "92dfae3f-db4e-4d4d-8088-0e99f5e37f38",
   "metadata": {},
   "outputs": [],
   "source": [
    "Fido= Dog('fido')\n",
    "Mukku=Dog ('mukku')"
   ]
  },
  {
   "cell_type": "code",
   "execution_count": 103,
   "id": "a43688b1-bbf1-49be-957a-c5e9e7bf86d2",
   "metadata": {},
   "outputs": [
    {
     "name": "stdout",
     "output_type": "stream",
     "text": [
      "fido says woof woof!\n"
     ]
    }
   ],
   "source": [
    "Fido.bark()"
   ]
  },
  {
   "cell_type": "code",
   "execution_count": 104,
   "id": "6d6fa11f-9508-413c-977d-4ce894299175",
   "metadata": {},
   "outputs": [
    {
     "name": "stdout",
     "output_type": "stream",
     "text": [
      "mukku says woof woof!\n"
     ]
    }
   ],
   "source": [
    "Mukku.bark()"
   ]
  },
  {
   "cell_type": "code",
   "execution_count": null,
   "id": "84b93b08-0269-4e47-a1f6-a57d1e83bd25",
   "metadata": {},
   "outputs": [],
   "source": [
    "def factorial(num):\n",
    "    # Your code goes here.  \n",
    "    if type(num)!=int or num<0:\n",
    "        return None\n",
    "    elif num == 0:\n",
    "        return 1\n",
    "        \n",
    "\n",
    "factorial(0)       "
   ]
  },
  {
   "cell_type": "code",
   "execution_count": null,
   "id": "40b349da-0f9d-424f-b2eb-eb1c209e5907",
   "metadata": {},
   "outputs": [],
   "source": []
  },
  {
   "cell_type": "code",
   "execution_count": null,
   "id": "89841d59-1a6c-414e-b872-800495708886",
   "metadata": {},
   "outputs": [],
   "source": [
    "def factorial(num):\n",
    "    # Your code goes here.  \n",
    "    if type(num)!=int or num<0:\n",
    "        return None\n",
    "    elif num == 0:\n",
    "        return 1\n",
    "\n",
    "factorial(0)"
   ]
  },
  {
   "cell_type": "code",
   "execution_count": null,
   "id": "da894afe-0bdd-4478-97ad-a8d794845182",
   "metadata": {},
   "outputs": [],
   "source": [
    "hexNumbers = {\n",
    "    '0': 0, '1': 1, '2': 2, '3': 3, '4': 4, '5': 5, '6': 6, '7': 7, '8': 8, '9': 9,\n",
    "    'A': 10, 'B': 11, 'C': 12, 'D': 13, 'E': 14, 'F': 15\n",
    "}"
   ]
  },
  {
   "cell_type": "code",
   "execution_count": null,
   "id": "9d521c21-5754-41a3-a135-2f43f39a1d48",
   "metadata": {},
   "outputs": [],
   "source": [
    "ab= hexNumbers(A)\n",
    "print(ab)"
   ]
  },
  {
   "cell_type": "code",
   "execution_count": null,
   "id": "03d142f8-7427-4dfe-8a1d-6480188dff96",
   "metadata": {},
   "outputs": [],
   "source": [
    "wait_until=(datetime.now().second+2)%60\n",
    "while True:\n",
    "    if datetime.now().second==wait_until:\n",
    "        print(f'waiting until {wait_until}')\n",
    "        break"
   ]
  },
  {
   "cell_type": "code",
   "execution_count": null,
   "id": "bb4f82fa-c062-4da0-be26-f26dc296d641",
   "metadata": {},
   "outputs": [],
   "source": []
  }
 ],
 "metadata": {
  "kernelspec": {
   "display_name": "Python 3 (ipykernel)",
   "language": "python",
   "name": "python3"
  },
  "language_info": {
   "codemirror_mode": {
    "name": "ipython",
    "version": 3
   },
   "file_extension": ".py",
   "mimetype": "text/x-python",
   "name": "python",
   "nbconvert_exporter": "python",
   "pygments_lexer": "ipython3",
   "version": "3.13.2"
  }
 },
 "nbformat": 4,
 "nbformat_minor": 5
}
