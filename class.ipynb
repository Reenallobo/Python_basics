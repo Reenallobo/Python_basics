{
 "cells": [
  {
   "cell_type": "code",
   "execution_count": null,
   "id": "3d120f2a-60a1-45b1-8ae1-1fed308dbd7a",
   "metadata": {},
   "outputs": [],
   "source": [
    "class dog:\n",
    "    def __init__(self,name):\n",
    "        self.name=name\n",
    "\n",
    "    def bark(self):\n",
    "        print(f'{self.name} says :woof woof')"
   ]
  },
  {
   "cell_type": "code",
   "execution_count": null,
   "id": "d3b035f3-0de9-4041-adfd-5a31268a241a",
   "metadata": {},
   "outputs": [],
   "source": [
    "fido= dog('Fido')"
   ]
  },
  {
   "cell_type": "code",
   "execution_count": null,
   "id": "7d496f85-1df4-4375-a55d-7faf634e755a",
   "metadata": {},
   "outputs": [],
   "source": [
    "fido.bark()"
   ]
  },
  {
   "cell_type": "code",
   "execution_count": null,
   "id": "bbc7f1b5-763f-4399-99b1-610dffca5e80",
   "metadata": {},
   "outputs": [],
   "source": [
    "#static variables\n",
    "class dog: #dog should b Dog\n",
    "    _legs=4 #static and can be changed\n",
    "    def __init__(self,name):\n",
    "        self.name=name\n",
    "\n",
    "    def getLegs(self):\n",
    "        return self._legs\n",
    "\n",
    "    def bark(self):\n",
    "        print(f'{self.name} says :woof woof')"
   ]
  },
  {
   "cell_type": "code",
   "execution_count": null,
   "id": "fceaebd1-10da-432f-b7db-51f3320cc193",
   "metadata": {},
   "outputs": [],
   "source": [
    "fido= dog('Fido') #fido is the self"
   ]
  },
  {
   "cell_type": "code",
   "execution_count": null,
   "id": "7221813f-f97b-4e6a-b05e-75375faa1ae9",
   "metadata": {},
   "outputs": [],
   "source": [
    "fido.bark()"
   ]
  },
  {
   "cell_type": "code",
   "execution_count": null,
   "id": "7d8fb7b1-c301-4578-99f7-066388fc1c18",
   "metadata": {},
   "outputs": [],
   "source": [
    "dog.legs=7"
   ]
  },
  {
   "cell_type": "code",
   "execution_count": null,
   "id": "5b1eb945-95aa-4056-b8eb-34cb66575cee",
   "metadata": {},
   "outputs": [],
   "source": [
    "dog.legs"
   ]
  },
  {
   "cell_type": "code",
   "execution_count": null,
   "id": "cd72239a-c708-4dfc-97a3-996c2a63c4f4",
   "metadata": {},
   "outputs": [],
   "source": [
    "fido.legs"
   ]
  },
  {
   "cell_type": "code",
   "execution_count": null,
   "id": "35fa0a15-9f5b-418a-bcf6-976d29e930ca",
   "metadata": {},
   "outputs": [],
   "source": [
    "fido._legs"
   ]
  },
  {
   "cell_type": "code",
   "execution_count": 99,
   "id": "72ba33ca-fc61-4706-bb93-24272c2c03bc",
   "metadata": {},
   "outputs": [
    {
     "name": "stdout",
     "output_type": "stream",
     "text": [
      "{'im', 'to', 'my', 'in', 'coding', 'trying', 'for', 'hi', 'name', 'is', 'jobs', 'eager', 'reenal.', 'new', 'languages', 'also,', 'learn', 'usa'}\n"
     ]
    }
   ],
   "source": [
    "class Wordset:\n",
    "    punctuation=['!','.',',']\n",
    "    def __init__(self):\n",
    "        self.words = set()\n",
    "\n",
    "    def addText(self,text): # instance method: methods that belong to particular instance of class\n",
    "        text = Wordset.EditText(text) \n",
    "        for word in text.split():\n",
    "            self.words.add(word) \n",
    "\n",
    "    def EditText(text):#static method- telling that this method is part of Wordset class definition itself and not assigned to any particular class instance. unchanging\n",
    "        for punc in Wordset.punctuation:\n",
    "            text=text.replace(punc,'')\n",
    "            return text.lower()\n",
    "            \n",
    "wordset = Wordset()\n",
    "\n",
    "wordset.addText('Hi! My name is Reenal. Im trying for jobs in USA')\n",
    "wordset.addText('Also, Im eager to learn new coding languages!!')\n",
    "\n",
    "print(wordset.words)"
   ]
  },
  {
   "cell_type": "code",
   "execution_count": 100,
   "id": "32986adc-0163-4ce1-911c-bd589e00742e",
   "metadata": {},
   "outputs": [
    {
     "name": "stdout",
     "output_type": "stream",
     "text": [
      "{'im', 'to', 'my', 'in', 'coding', 'trying', 'for', 'hi', 'name', 'is', 'jobs', 'eager', 'reenal.', 'new', 'languages', 'also,', 'learn', 'usa'}\n"
     ]
    }
   ],
   "source": [
    "#decorator\n",
    "\n",
    "class Wordset:\n",
    "    punctuation=['!','.',',']\n",
    "    def __init__(self):\n",
    "        self.words = set()\n",
    "\n",
    "    def addText(self,text): # instance method: methods that belong to particular instance of class\n",
    "        text = self.EditText(text) \n",
    "        for word in text.split():\n",
    "            self.words.add(word) \n",
    "            \n",
    "    @staticmethod\n",
    "    def EditText(text):#static method- telling that this method is part of Wordset class definition itself and not assigned to any particular class instance. unchanging\n",
    "        for punc in Wordset.punctuation:\n",
    "            text=text.replace(punc,'')\n",
    "            return text.lower()\n",
    "            \n",
    "wordset = Wordset()\n",
    "\n",
    "wordset.addText('Hi! My name is Reenal. Im trying for jobs in USA')\n",
    "wordset.addText('Also, Im eager to learn new coding languages!!')\n",
    "\n",
    "print(wordset.words)"
   ]
  },
  {
   "cell_type": "code",
   "execution_count": 164,
   "id": "69470466-b44f-4e01-8fe6-c255580b9f86",
   "metadata": {},
   "outputs": [],
   "source": [
    "#Inheritence\n",
    "class Dog:\n",
    "    _leg = 4\n",
    "    def __init__(self,name):\n",
    "        self.name=name\n",
    "\n",
    "    def getLegsinfo(self):\n",
    "        print(f'{self._leg }')\n",
    "\n",
    "    def speak(self):\n",
    "        print(f'{self.name} says woof woof')\n",
    "\n",
    "class chiua(Dog):\n",
    "    def speak(self):\n",
    "        print(f'{self.name} says woofi woofi')\n",
    "\n",
    "    def height(self,height):\n",
    "        self.height =height\n",
    "        print(f'{self.name} has height of {self.height}')\n",
    "    "
   ]
  },
  {
   "cell_type": "code",
   "execution_count": 165,
   "id": "9744f273-d1f1-44a4-aa0f-f00346f3ef36",
   "metadata": {},
   "outputs": [],
   "source": [
    "mukku = chiua('Mukku')\n",
    "brubo = Dog('brubo')"
   ]
  },
  {
   "cell_type": "code",
   "execution_count": 166,
   "id": "56a5e88f-f15b-4b02-879d-37a72e8a0103",
   "metadata": {},
   "outputs": [
    {
     "name": "stdout",
     "output_type": "stream",
     "text": [
      "4\n",
      "Mukku says woofi woofi\n",
      "Mukku has height of 2\n",
      "brubo says woof woof\n"
     ]
    }
   ],
   "source": [
    "mukku.getLegsinfo()\n",
    "mukku.speak()\n",
    "mukku.height(2)\n",
    "brubo.speak()\n"
   ]
  },
  {
   "cell_type": "code",
   "execution_count": 167,
   "id": "e1cbca61-ffff-4a56-853c-a1d585a1cf1c",
   "metadata": {},
   "outputs": [],
   "source": [
    "myList= list()  #class list:"
   ]
  },
  {
   "cell_type": "code",
   "execution_count": 168,
   "id": "44cedd1b-1056-4765-adac-450765aea8c5",
   "metadata": {},
   "outputs": [],
   "source": [
    "class uniquelist(list):\n",
    "    def append(self,item):\n",
    "        if item in self:\n",
    "            return\n",
    "        self.append(item) #infinite recursion\n",
    "\n",
    " "
   ]
  },
  {
   "cell_type": "code",
   "execution_count": 176,
   "id": "a87570bd-f8ea-4d8e-a505-366138da97a7",
   "metadata": {},
   "outputs": [],
   "source": [
    "#super() gets underlying instance of parent class\n",
    "class Uniquelist(list):\n",
    "    def append(self,item):\n",
    "        if item in self:\n",
    "            return\n",
    "        super().append(item)"
   ]
  },
  {
   "cell_type": "code",
   "execution_count": 177,
   "id": "ee356676-e831-421d-8103-6696af8ba511",
   "metadata": {},
   "outputs": [],
   "source": [
    "uniquelist = Uniquelist()"
   ]
  },
  {
   "cell_type": "code",
   "execution_count": 178,
   "id": "f4a6df38-72b4-4eea-8dfb-2827e8f7a6f0",
   "metadata": {},
   "outputs": [],
   "source": [
    "uniquelist.append(2)\n",
    "uniquelist.append(3)\n",
    "uniquelist.append(2)"
   ]
  },
  {
   "cell_type": "code",
   "execution_count": 179,
   "id": "6e25a5b3-d944-4c8c-a6ff-ae9d56b52c5c",
   "metadata": {},
   "outputs": [
    {
     "data": {
      "text/plain": [
       "[2, 3]"
      ]
     },
     "execution_count": 179,
     "metadata": {},
     "output_type": "execute_result"
    }
   ],
   "source": [
    "uniquelist"
   ]
  },
  {
   "cell_type": "code",
   "execution_count": 189,
   "id": "082d6f67-991e-49b2-86cc-a358b0e649e0",
   "metadata": {},
   "outputs": [
    {
     "data": {
      "text/plain": [
       "'property'"
      ]
     },
     "execution_count": 189,
     "metadata": {},
     "output_type": "execute_result"
    }
   ],
   "source": [
    "#super() in constructor\n",
    "myList= list()  #class list:\n",
    "\n",
    "\n",
    "class Uniquelist(list):\n",
    "    def __init__(self):\n",
    "        super().__init__() # makes sure that parent constructor is called first\n",
    "        self.property = 'property' #overwriting the constructor in parent class\n",
    "    \n",
    "    def append(self,item):\n",
    "        if item in self:\n",
    "            return\n",
    "        super().append(item)\n",
    "uniquelist = Uniquelist()\n",
    "uniquelist.append(2)\n",
    "uniquelist.append(3)\n",
    "uniquelist.append(2)\n",
    "\n",
    "uniquelist.property"
   ]
  },
  {
   "cell_type": "code",
   "execution_count": 250,
   "id": "eddf0935-bb6b-4bd3-b783-e013b414d75c",
   "metadata": {},
   "outputs": [],
   "source": [
    "class Shape:\n",
    "\twidth = 5\n",
    "\theight = 5\n",
    "\tprintChar = '#'\n",
    "\n",
    "\tdef printRow(self, i):\n",
    "\t\traise NotImplementedError(\"Will be implemented by children extending this class\")\n",
    "\n",
    "\tdef print(self):\n",
    "\t\tfor i in range(self.height):\n",
    "\t\t\tself.printRow(i)\n",
    "\n",
    "\n",
    "class Square(Shape):\n",
    "    def printRow(self, i):\n",
    "        while (i != 0):\n",
    "            print(self.printChar * self.width)\n",
    "            i-=1\n",
    "\n",
    "            \n",
    "class Triangle(Shape):\n",
    "    def Tria(self,i):\n",
    "        self.width=1\n",
    "        self.height=1\n",
    "        while(i!=0):\n",
    "            print(self.printChar * self.width * self.height)\n",
    "            i-=1\n",
    "            self.height+=1"
   ]
  },
  {
   "cell_type": "code",
   "execution_count": 251,
   "id": "0f72daa6-8cc8-40f2-99fc-998f440e1640",
   "metadata": {},
   "outputs": [
    {
     "name": "stdout",
     "output_type": "stream",
     "text": [
      "#####\n",
      "#####\n",
      "#####\n",
      "#####\n",
      "#####\n"
     ]
    }
   ],
   "source": [
    "square= Square()\n",
    "square.printRow(5)"
   ]
  },
  {
   "cell_type": "code",
   "execution_count": 252,
   "id": "f4e26fc6-c8b7-487c-a9c7-932664d60b26",
   "metadata": {},
   "outputs": [
    {
     "name": "stdout",
     "output_type": "stream",
     "text": [
      "#\n",
      "##\n",
      "###\n",
      "####\n",
      "#####\n"
     ]
    }
   ],
   "source": [
    "triange=Triangle()\n",
    "triange.Tria(5)"
   ]
  },
  {
   "cell_type": "code",
   "execution_count": 267,
   "id": "56204712-776d-4e3e-b5b7-70f14c123e45",
   "metadata": {},
   "outputs": [],
   "source": [
    "class Shape:\n",
    "\twidth = 5\n",
    "\theight = 5\n",
    "\tprintChar = '#'\n",
    "\n",
    "\tdef printRow(self, i):\n",
    "\t\traise NotImplementedError(\"Will be implemented by children extending this class\")\n",
    "\n",
    "\tdef print(self):\n",
    "\t\tfor i in range(self.height):\n",
    "\t\t\tself.printRow(i)\n",
    "\n",
    "\n",
    "class Square(Shape):\n",
    "    def printRow(self, i):\n",
    " \n",
    "            print(self.printChar * i)\n",
    "\n",
    "\n",
    "            \n",
    "class Triangle(Shape):\n",
    "    def printRow(self,i):\n",
    "        print(self.printChar *(i+1))\n",
    "           "
   ]
  },
  {
   "cell_type": "code",
   "execution_count": 268,
   "id": "dfd8b1b6-cc1a-4375-b594-adb0fb3801f6",
   "metadata": {},
   "outputs": [
    {
     "name": "stdout",
     "output_type": "stream",
     "text": [
      "######\n"
     ]
    }
   ],
   "source": [
    "triange=Triangle()\n",
    "triange.printRow(5)"
   ]
  },
  {
   "cell_type": "code",
   "execution_count": 257,
   "id": "1b8c7939-5b04-4c31-a9d6-41d3a664eb5b",
   "metadata": {},
   "outputs": [
    {
     "name": "stdout",
     "output_type": "stream",
     "text": [
      "#####\n",
      "#####\n",
      "#####\n",
      "#####\n",
      "#####\n"
     ]
    }
   ],
   "source": [
    "square= Square()\n",
    "square.printRow(5)"
   ]
  },
  {
   "cell_type": "code",
   "execution_count": null,
   "id": "939ae60c-faa1-4288-a027-0b82ad4a68b6",
   "metadata": {},
   "outputs": [],
   "source": []
  }
 ],
 "metadata": {
  "kernelspec": {
   "display_name": "Python 3 (ipykernel)",
   "language": "python",
   "name": "python3"
  },
  "language_info": {
   "codemirror_mode": {
    "name": "ipython",
    "version": 3
   },
   "file_extension": ".py",
   "mimetype": "text/x-python",
   "name": "python",
   "nbconvert_exporter": "python",
   "pygments_lexer": "ipython3",
   "version": "3.13.2"
  }
 },
 "nbformat": 4,
 "nbformat_minor": 5
}
