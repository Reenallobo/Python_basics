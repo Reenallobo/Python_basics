{
 "cells": [
  {
   "cell_type": "code",
   "execution_count": 29,
   "id": "dcdc983c-f5fa-41db-933e-79922db6bad4",
   "metadata": {},
   "outputs": [
    {
     "data": {
      "text/plain": [
       "['a', 'b', 'c']"
      ]
     },
     "execution_count": 29,
     "metadata": {},
     "output_type": "execute_result"
    }
   ],
   "source": [
    "mystring='abc'\n",
    "mystrList=list(mystring)\n",
    "mystrList"
   ]
  },
  {
   "cell_type": "code",
   "execution_count": 18,
   "id": "d781f5e4-e54a-40de-8fd9-cb9076367ff7",
   "metadata": {},
   "outputs": [],
   "source": [
    "mylist=['abc','zzbc','bcz','zzz']"
   ]
  },
  {
   "cell_type": "code",
   "execution_count": 21,
   "id": "65f43239-504f-4e32-afc6-7acaaadbb587",
   "metadata": {},
   "outputs": [
    {
     "data": {
      "text/plain": [
       "['abc', 'bcz']"
      ]
     },
     "execution_count": 21,
     "metadata": {},
     "output_type": "execute_result"
    }
   ],
   "source": [
    "mylist[0:4:2]"
   ]
  },
  {
   "cell_type": "code",
   "execution_count": 42,
   "id": "1238a4d9-e8f3-4ced-8ca6-42a06b69602d",
   "metadata": {},
   "outputs": [],
   "source": [
    "mylist=list(range(20))"
   ]
  },
  {
   "cell_type": "code",
   "execution_count": 43,
   "id": "c49c6e94-c0cb-4a13-88b5-ddfbe55086f5",
   "metadata": {},
   "outputs": [
    {
     "name": "stdout",
     "output_type": "stream",
     "text": [
      "[0, 1, 2, 3, 4, 5, 6, 7, 8, 9, 10, 11, 12, 13, 14, 15, 16, 17, 18, 19]\n"
     ]
    }
   ],
   "source": [
    "print(mylist)"
   ]
  },
  {
   "cell_type": "code",
   "execution_count": 44,
   "id": "b44c91c0-b31f-435e-9b71-6b60c3c2624e",
   "metadata": {},
   "outputs": [
    {
     "data": {
      "text/plain": [
       "[19]"
      ]
     },
     "execution_count": 44,
     "metadata": {},
     "output_type": "execute_result"
    }
   ],
   "source": [
    "mylist[::-20]"
   ]
  },
  {
   "cell_type": "code",
   "execution_count": 50,
   "id": "8e7bdb87-38bb-4fcc-92cc-6638d2fb55ed",
   "metadata": {},
   "outputs": [],
   "source": [
    "mylist.append(1000)"
   ]
  },
  {
   "cell_type": "code",
   "execution_count": 51,
   "id": "39a24f94-4293-446b-8232-8e29b334b7da",
   "metadata": {},
   "outputs": [
    {
     "data": {
      "text/plain": [
       "[0, 1, 2, 3, 4, 5, 6, 7, 8, 9, 10, 11, 12, 13, 14, 15, 16, 17, 18, 19, 1000]"
      ]
     },
     "execution_count": 51,
     "metadata": {},
     "output_type": "execute_result"
    }
   ],
   "source": [
    "mylist"
   ]
  },
  {
   "cell_type": "code",
   "execution_count": 62,
   "id": "9be9e7f4-6847-4894-a779-40893784cd37",
   "metadata": {},
   "outputs": [],
   "source": [
    "mylist.remove(5)"
   ]
  },
  {
   "cell_type": "code",
   "execution_count": 63,
   "id": "be789275-60e3-415d-b6ed-c08ee6dc8096",
   "metadata": {},
   "outputs": [
    {
     "data": {
      "text/plain": [
       "[0,\n",
       " 1,\n",
       " 2,\n",
       " 3,\n",
       " 111,\n",
       " 4,\n",
       " 6,\n",
       " 7,\n",
       " 8,\n",
       " 9,\n",
       " 10,\n",
       " 11,\n",
       " 12,\n",
       " 13,\n",
       " 14,\n",
       " 15,\n",
       " 16,\n",
       " 17,\n",
       " 18,\n",
       " 111111,\n",
       " 111111]"
      ]
     },
     "execution_count": 63,
     "metadata": {},
     "output_type": "execute_result"
    }
   ],
   "source": [
    "mylist"
   ]
  },
  {
   "cell_type": "code",
   "execution_count": 55,
   "id": "0235ddcc-868b-42bd-bf80-abe255b59335",
   "metadata": {},
   "outputs": [],
   "source": [
    "mylist.insert(4,111)"
   ]
  },
  {
   "cell_type": "code",
   "execution_count": 56,
   "id": "02bb99b6-4f83-434d-bcf6-efb313d5c877",
   "metadata": {},
   "outputs": [
    {
     "data": {
      "text/plain": [
       "[0, 1, 2, 3, 111, 4, 5, 6, 7, 8, 9, 10, 11, 12, 13, 14, 15, 16, 17, 18, 19]"
      ]
     },
     "execution_count": 56,
     "metadata": {},
     "output_type": "execute_result"
    }
   ],
   "source": [
    "mylist"
   ]
  },
  {
   "cell_type": "code",
   "execution_count": 57,
   "id": "32fef102-6d14-4408-8a13-4461caada6b7",
   "metadata": {},
   "outputs": [
    {
     "data": {
      "text/plain": [
       "19"
      ]
     },
     "execution_count": 57,
     "metadata": {},
     "output_type": "execute_result"
    }
   ],
   "source": [
    "mylist.pop()"
   ]
  },
  {
   "cell_type": "code",
   "execution_count": 58,
   "id": "6dc614da-f92e-40fa-8f7a-93cb09d819b5",
   "metadata": {},
   "outputs": [
    {
     "data": {
      "text/plain": [
       "[0, 1, 2, 3, 111, 4, 5, 6, 7, 8, 9, 10, 11, 12, 13, 14, 15, 16, 17, 18]"
      ]
     },
     "execution_count": 58,
     "metadata": {},
     "output_type": "execute_result"
    }
   ],
   "source": [
    "mylist"
   ]
  },
  {
   "cell_type": "code",
   "execution_count": 61,
   "id": "e66b96cf-2bc9-4aa6-81bc-15d35fc24ff4",
   "metadata": {},
   "outputs": [
    {
     "name": "stdout",
     "output_type": "stream",
     "text": [
      "[0, 1, 2, 3, 111, 4, 5, 6, 7, 8, 9, 10, 11, 12, 13, 14, 15, 16, 17, 18, 111111, 111111]\n",
      "[0, 1, 2, 3, 111, 4, 5, 6, 7, 8, 9, 10, 11, 12, 13, 14, 15, 16, 17, 18, 111111]\n"
     ]
    }
   ],
   "source": [
    "mylist_2=mylist.copy()\n",
    "mylist.append(111111)\n",
    "print(mylist)\n",
    "print(mylist_2)"
   ]
  },
  {
   "cell_type": "code",
   "execution_count": null,
   "id": "24da1f0d-c714-4c73-9f3a-03a38b9aecd7",
   "metadata": {},
   "outputs": [],
   "source": [
    "def StrNr(Word):\n",
    "    myList=list(Word)\n",
    "\n",
    "    counter=0\n",
    "\n",
    "    while len(myList):\n",
    "        for item in myList\n",
    "        \n",
    "        counter+=1\n",
    "    return item,counter\n",
    "\n",
    "StrNr('ABA')"
   ]
  },
  {
   "cell_type": "code",
   "execution_count": null,
   "id": "286fe9c6-825e-4e1d-a745-ede655934988",
   "metadata": {},
   "outputs": [],
   "source": []
  },
  {
   "cell_type": "code",
   "execution_count": null,
   "id": "2c0580a6-7840-4621-8f5e-e2be11a66794",
   "metadata": {},
   "outputs": [],
   "source": [
    "a=10\n",
    "b=a\n",
    "a=20\n",
    "print(b)"
   ]
  },
  {
   "cell_type": "code",
   "execution_count": null,
   "id": "ed34cdc9-4657-441e-8d25-5ba49890688d",
   "metadata": {},
   "outputs": [],
   "source": [
    "mylist=['a','b']"
   ]
  },
  {
   "cell_type": "code",
   "execution_count": null,
   "id": "2878684c-ccfa-4f7f-9705-339b9be55c29",
   "metadata": {},
   "outputs": [],
   "source": [
    "mylist"
   ]
  },
  {
   "cell_type": "code",
   "execution_count": null,
   "id": "ce1dd21d-a8dd-432f-a2d7-5e27bdaeb3a3",
   "metadata": {},
   "outputs": [],
   "source": []
  }
 ],
 "metadata": {
  "kernelspec": {
   "display_name": "Python 3 (ipykernel)",
   "language": "python",
   "name": "python3"
  },
  "language_info": {
   "codemirror_mode": {
    "name": "ipython",
    "version": 3
   },
   "file_extension": ".py",
   "mimetype": "text/x-python",
   "name": "python",
   "nbconvert_exporter": "python",
   "pygments_lexer": "ipython3",
   "version": "3.13.2"
  }
 },
 "nbformat": 4,
 "nbformat_minor": 5
}
