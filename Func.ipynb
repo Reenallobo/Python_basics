{
 "cells": [
  {
   "cell_type": "code",
   "execution_count": 24,
   "id": "e126550a-2812-4d39-b9e7-730a9a0273ce",
   "metadata": {},
   "outputs": [],
   "source": [
    "import math"
   ]
  },
  {
   "cell_type": "code",
   "execution_count": 30,
   "id": "a499fc0b-81a3-49aa-8258-ab043ad117e2",
   "metadata": {},
   "outputs": [],
   "source": [
    "def calcul(*args,**kwargs):\n",
    "    if operation=='sum':\n",
    "        return sum(args)\n",
    "    if operation=='multiply':\n",
    "        return math.prod(args)"
   ]
  },
  {
   "cell_type": "code",
   "execution_count": null,
   "id": "c30010fe-0d75-47ea-a981-e12338589a54",
   "metadata": {},
   "outputs": [],
   "source": [
    "calcul(1,2,4, operation='multiply')"
   ]
  },
  {
   "cell_type": "code",
   "execution_count": 36,
   "id": "1419f8cc-fa23-4414-a864-ea5fe8e28990",
   "metadata": {},
   "outputs": [
    {
     "name": "stdout",
     "output_type": "stream",
     "text": [
      "{'arg': (1, 2, 4), 'kwargs': {'operation': 'multiply'}}\n"
     ]
    }
   ],
   "source": [
    "def cal1(*arg,**kwargs):\n",
    "    print(locals())\n",
    "\n",
    "cal1(1,2,4, operation='multiply')"
   ]
  },
  {
   "cell_type": "code",
   "execution_count": 41,
   "id": "263fb2c0-f383-493a-86c1-10a8b0719138",
   "metadata": {},
   "outputs": [
    {
     "name": "stdout",
     "output_type": "stream",
     "text": [
      "1 2\n",
      "{'var1': 12, 'var2': 34}\n",
      "{'var1': 1, 'var2': 2, 'message': 'all well', 'func_in': <function func_out.<locals>.func_in at 0x0000012BA4098A40>}\n"
     ]
    }
   ],
   "source": [
    "def func_out(var1,var2):\n",
    "    print(var1,var2)\n",
    "    message='all well'\n",
    "    def func_in(var1,var2):\n",
    "        print(f'{locals()}')\n",
    "    func_in(12,34)\n",
    "    print(locals())\n",
    "func_out(1,2)"
   ]
  },
  {
   "cell_type": "code",
   "execution_count": 42,
   "id": "f703aac3-d1b3-45e3-a499-453506bc8a48",
   "metadata": {},
   "outputs": [],
   "source": [
    "text='I am beautiful,BUT I DONT CARE'"
   ]
  },
  {
   "cell_type": "code",
   "execution_count": 49,
   "id": "ad29b9b9-85b7-43b0-9c7c-35b0575c4c4a",
   "metadata": {},
   "outputs": [
    {
     "data": {
      "text/plain": [
       "'I am beautiful BUT I DONT CARE'"
      ]
     },
     "execution_count": 49,
     "metadata": {},
     "output_type": "execute_result"
    }
   ],
   "source": [
    "def func_1(text):\n",
    "    return text.lower()\n",
    "\n",
    "\n",
    "def func_2(text):\n",
    "    return text.replace(',',' ')\n",
    "func2(text)   "
   ]
  },
  {
   "cell_type": "code",
   "execution_count": 56,
   "id": "ce5f2053-96b9-42d1-8a0a-6fe304dfead9",
   "metadata": {},
   "outputs": [
    {
     "name": "stdout",
     "output_type": "stream",
     "text": [
      "i am beautiful but i dont care\n"
     ]
    }
   ],
   "source": [
    "myfuncList=[func_1,func_2]\n",
    "\n",
    "for func in myfuncList:\n",
    "    text=func(text)\n",
    "print(text)"
   ]
  },
  {
   "cell_type": "code",
   "execution_count": 57,
   "id": "84e7b694-5ddc-4ab3-99dc-205f814f53c2",
   "metadata": {},
   "outputs": [
    {
     "data": {
      "text/plain": [
       "10"
      ]
     },
     "execution_count": 57,
     "metadata": {},
     "output_type": "execute_result"
    }
   ],
   "source": [
    "(lambda y: y+5)(5)"
   ]
  },
  {
   "cell_type": "code",
   "execution_count": 59,
   "id": "b65dfabd-9073-44e4-8f9c-3a2f3990bd0a",
   "metadata": {},
   "outputs": [],
   "source": [
    "mylist=[{'a':1},{'b':2}]"
   ]
  },
  {
   "cell_type": "code",
   "execution_count": 60,
   "id": "cc282c87-29ec-4962-9060-42b80214d43a",
   "metadata": {},
   "outputs": [
    {
     "ename": "TypeError",
     "evalue": "'<' not supported between instances of 'dict' and 'dict'",
     "output_type": "error",
     "traceback": [
      "\u001b[31m---------------------------------------------------------------------------\u001b[39m",
      "\u001b[31mTypeError\u001b[39m                                 Traceback (most recent call last)",
      "\u001b[36mCell\u001b[39m\u001b[36m \u001b[39m\u001b[32mIn[60]\u001b[39m\u001b[32m, line 1\u001b[39m\n\u001b[32m----> \u001b[39m\u001b[32m1\u001b[39m \u001b[38;5;28;43msorted\u001b[39;49m\u001b[43m(\u001b[49m\u001b[43mmylist\u001b[49m\u001b[43m)\u001b[49m\n",
      "\u001b[31mTypeError\u001b[39m: '<' not supported between instances of 'dict' and 'dict'"
     ]
    }
   ],
   "source": [
    "sorted(mylist)"
   ]
  },
  {
   "cell_type": "code",
   "execution_count": 67,
   "id": "bb289dd1-1e5e-494b-9779-0debe0111362",
   "metadata": {},
   "outputs": [],
   "source": [
    "mylist=[{'a':1},{'a':2}]"
   ]
  },
  {
   "cell_type": "code",
   "execution_count": 68,
   "id": "1a6eb5a0-382e-4715-b477-be3f1fb57660",
   "metadata": {},
   "outputs": [
    {
     "data": {
      "text/plain": [
       "[{'a': 1}, {'a': 2}]"
      ]
     },
     "execution_count": 68,
     "metadata": {},
     "output_type": "execute_result"
    }
   ],
   "source": [
    "sorted(mylist, key=lambda x: x['a'])"
   ]
  },
  {
   "cell_type": "code",
   "execution_count": 77,
   "id": "2e19d1bd-0dbe-416a-9991-faefb66be8eb",
   "metadata": {},
   "outputs": [
    {
     "data": {
      "text/plain": [
       "15"
      ]
     },
     "execution_count": 77,
     "metadata": {},
     "output_type": "execute_result"
    }
   ],
   "source": [
    "def triangle(num):\n",
    "    if num == 1:\n",
    "        return num\n",
    "    return num + triangle(num - 1)\n",
    "\n",
    "\n"
   ]
  },
  {
   "cell_type": "code",
   "execution_count": 80,
   "id": "8dca93c2-c067-40d7-ad13-6df4649afd5b",
   "metadata": {},
   "outputs": [],
   "source": [
    "def square(num):\n",
    "    x=triangle(num)+triangle(num-1)\n",
    "    return x"
   ]
  },
  {
   "cell_type": "code",
   "execution_count": 82,
   "id": "01237542-9f92-407a-bb7c-bc00bdb95f44",
   "metadata": {},
   "outputs": [
    {
     "data": {
      "text/plain": [
       "36"
      ]
     },
     "execution_count": 82,
     "metadata": {},
     "output_type": "execute_result"
    }
   ],
   "source": [
    "square(6)"
   ]
  },
  {
   "cell_type": "code",
   "execution_count": null,
   "id": "0e5a992d-32e0-41c1-9af7-959a97ae56ff",
   "metadata": {},
   "outputs": [],
   "source": []
  }
 ],
 "metadata": {
  "kernelspec": {
   "display_name": "Python 3 (ipykernel)",
   "language": "python",
   "name": "python3"
  },
  "language_info": {
   "codemirror_mode": {
    "name": "ipython",
    "version": 3
   },
   "file_extension": ".py",
   "mimetype": "text/x-python",
   "name": "python",
   "nbconvert_exporter": "python",
   "pygments_lexer": "ipython3",
   "version": "3.13.2"
  }
 },
 "nbformat": 4,
 "nbformat_minor": 5
}
