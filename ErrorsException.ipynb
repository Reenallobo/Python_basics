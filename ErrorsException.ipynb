{
 "cells": [
  {
   "cell_type": "code",
   "execution_count": 15,
   "id": "f46d3243-245b-4940-98f9-10b785096ddf",
   "metadata": {},
   "outputs": [],
   "source": [
    "import time"
   ]
  },
  {
   "cell_type": "code",
   "execution_count": 16,
   "id": "1d06f023-724d-4591-8d1c-2ba20527200b",
   "metadata": {},
   "outputs": [
    {
     "ename": "ZeroDivisionError",
     "evalue": "division by zero",
     "output_type": "error",
     "traceback": [
      "\u001b[31m---------------------------------------------------------------------------\u001b[39m",
      "\u001b[31mZeroDivisionError\u001b[39m                         Traceback (most recent call last)",
      "\u001b[36mCell\u001b[39m\u001b[36m \u001b[39m\u001b[32mIn[16]\u001b[39m\u001b[32m, line 5\u001b[39m\n\u001b[32m      2\u001b[39m \u001b[38;5;28;01mdef\u001b[39;00m\u001b[38;5;250m \u001b[39m\u001b[34mcauseError\u001b[39m():\n\u001b[32m      3\u001b[39m     \u001b[38;5;28;01mreturn\u001b[39;00m \u001b[32m1\u001b[39m/\u001b[32m0\u001b[39m\n\u001b[32m----> \u001b[39m\u001b[32m5\u001b[39m \u001b[43mcauseError\u001b[49m\u001b[43m(\u001b[49m\u001b[43m)\u001b[49m\n",
      "\u001b[36mCell\u001b[39m\u001b[36m \u001b[39m\u001b[32mIn[16]\u001b[39m\u001b[32m, line 3\u001b[39m, in \u001b[36mcauseError\u001b[39m\u001b[34m()\u001b[39m\n\u001b[32m      2\u001b[39m \u001b[38;5;28;01mdef\u001b[39;00m\u001b[38;5;250m \u001b[39m\u001b[34mcauseError\u001b[39m():\n\u001b[32m----> \u001b[39m\u001b[32m3\u001b[39m     \u001b[38;5;28;01mreturn\u001b[39;00m \u001b[32;43m1\u001b[39;49m\u001b[43m/\u001b[49m\u001b[32;43m0\u001b[39;49m\n",
      "\u001b[31mZeroDivisionError\u001b[39m: division by zero"
     ]
    }
   ],
   "source": [
    "\n",
    "#Stack Trace\n",
    "def causeError():\n",
    "    return 1/0\n",
    "\n",
    "causeError()"
   ]
  },
  {
   "cell_type": "code",
   "execution_count": 17,
   "id": "f3f45ddd-806f-4a23-ad1b-056d75fd130b",
   "metadata": {},
   "outputs": [
    {
     "ename": "ZeroDivisionError",
     "evalue": "division by zero",
     "output_type": "error",
     "traceback": [
      "\u001b[31m---------------------------------------------------------------------------\u001b[39m",
      "\u001b[31mZeroDivisionError\u001b[39m                         Traceback (most recent call last)",
      "\u001b[36mCell\u001b[39m\u001b[36m \u001b[39m\u001b[32mIn[17]\u001b[39m\u001b[32m, line 6\u001b[39m\n\u001b[32m      3\u001b[39m \u001b[38;5;28;01mdef\u001b[39;00m\u001b[38;5;250m \u001b[39m\u001b[34mcallCauseError\u001b[39m():\n\u001b[32m      4\u001b[39m     causeError()\n\u001b[32m----> \u001b[39m\u001b[32m6\u001b[39m \u001b[43mcallCauseError\u001b[49m\u001b[43m(\u001b[49m\u001b[43m)\u001b[49m\n",
      "\u001b[36mCell\u001b[39m\u001b[36m \u001b[39m\u001b[32mIn[17]\u001b[39m\u001b[32m, line 4\u001b[39m, in \u001b[36mcallCauseError\u001b[39m\u001b[34m()\u001b[39m\n\u001b[32m      3\u001b[39m \u001b[38;5;28;01mdef\u001b[39;00m\u001b[38;5;250m \u001b[39m\u001b[34mcallCauseError\u001b[39m():\n\u001b[32m----> \u001b[39m\u001b[32m4\u001b[39m     \u001b[43mcauseError\u001b[49m\u001b[43m(\u001b[49m\u001b[43m)\u001b[49m\n",
      "\u001b[36mCell\u001b[39m\u001b[36m \u001b[39m\u001b[32mIn[17]\u001b[39m\u001b[32m, line 2\u001b[39m, in \u001b[36mcauseError\u001b[39m\u001b[34m()\u001b[39m\n\u001b[32m      1\u001b[39m \u001b[38;5;28;01mdef\u001b[39;00m\u001b[38;5;250m \u001b[39m\u001b[34mcauseError\u001b[39m():\n\u001b[32m----> \u001b[39m\u001b[32m2\u001b[39m     \u001b[38;5;28;01mreturn\u001b[39;00m \u001b[32;43m1\u001b[39;49m\u001b[43m/\u001b[49m\u001b[32;43m0\u001b[39;49m\n",
      "\u001b[31mZeroDivisionError\u001b[39m: division by zero"
     ]
    }
   ],
   "source": [
    "def causeError():\n",
    "    return 1/0\n",
    "def callCauseError():\n",
    "    causeError()\n",
    "\n",
    "callCauseError()"
   ]
  },
  {
   "cell_type": "markdown",
   "id": "481ca872-e781-40d9-ad1a-416f3a6a6179",
   "metadata": {},
   "source": [
    "TRY/EXCEPT"
   ]
  },
  {
   "cell_type": "code",
   "execution_count": 18,
   "id": "7314ee18-8858-4eea-9865-e7e49fd7d51f",
   "metadata": {},
   "outputs": [
    {
     "name": "stdout",
     "output_type": "stream",
     "text": [
      "<class 'ZeroDivisionError'>\n"
     ]
    }
   ],
   "source": [
    "try:\n",
    "    1/0\n",
    "except Exception as e:\n",
    "    print(type(e))"
   ]
  },
  {
   "cell_type": "code",
   "execution_count": 19,
   "id": "6c2be7b3-5fb1-4d5f-9c6a-7fdba40fdd5f",
   "metadata": {},
   "outputs": [
    {
     "name": "stdout",
     "output_type": "stream",
     "text": [
      "zero divison error\n"
     ]
    }
   ],
   "source": [
    "try:\n",
    "    1/0\n",
    "except Exception:\n",
    "    print('zero divison error')\n"
   ]
  },
  {
   "cell_type": "markdown",
   "id": "fa67cd5e-12a0-4202-b056-2eb7d4b7ae51",
   "metadata": {},
   "source": [
    "Finally"
   ]
  },
  {
   "cell_type": "code",
   "execution_count": 37,
   "id": "b2821e09-6731-45a8-bb39-15d0448d9822",
   "metadata": {},
   "outputs": [
    {
     "name": "stdout",
     "output_type": "stream",
     "text": [
      "zero divison error\n",
      "a\n"
     ]
    }
   ],
   "source": [
    "try:\n",
    "    1/0\n",
    "except Exception:\n",
    "    print('zero divison error')\n",
    "finally:\n",
    "    print('a')"
   ]
  },
  {
   "cell_type": "code",
   "execution_count": 34,
   "id": "1d6a37ba-751a-41bd-a4d8-36c02c50b08b",
   "metadata": {},
   "outputs": [
    {
     "name": "stdout",
     "output_type": "stream",
     "text": [
      "program took 0.500638484954834 sec\n"
     ]
    },
    {
     "data": {
      "text/plain": [
       "1.0"
      ]
     },
     "execution_count": 34,
     "metadata": {},
     "output_type": "execute_result"
    }
   ],
   "source": [
    "def causeError():\n",
    "    clock=time.time()\n",
    "    try:\n",
    "        time.sleep(0.5)\n",
    "        return 1/1\n",
    "    except:\n",
    "        print('zero division error')\n",
    "    finally:\n",
    "        print(f'program took {time.time()-clock} sec')\n",
    "    \n",
    "causeError()"
   ]
  },
  {
   "cell_type": "markdown",
   "id": "e2856946-c98d-443c-8b82-ca80b8fed208",
   "metadata": {},
   "source": [
    "CATCHING EXCEPTION BY TYPE"
   ]
  },
  {
   "cell_type": "code",
   "execution_count": 47,
   "id": "bc090bc5-d971-44c6-9703-a7d4b93e6376",
   "metadata": {},
   "outputs": [
    {
     "name": "stdout",
     "output_type": "stream",
     "text": [
      "type error\n"
     ]
    }
   ],
   "source": [
    "def catchEx():\n",
    "    try:\n",
    "        return 1+'e'\n",
    "\n",
    "    except TypeError:\n",
    "        print('type error')\n",
    "    except ZeroDivisionError:\n",
    "        print(' ZeroDivisionError')\n",
    "    except Exception:\n",
    "        print('nothing')\n",
    "\n",
    "    \n",
    "catchEx()"
   ]
  },
  {
   "cell_type": "markdown",
   "id": "c1984a44-282b-4b6e-947f-bec6215d58fd",
   "metadata": {},
   "source": [
    "CUSTOM DECORATORS"
   ]
  },
  {
   "cell_type": "code",
   "execution_count": 79,
   "id": "fa71b6be-f50a-4c13-a2e7-8998b277bf23",
   "metadata": {},
   "outputs": [
    {
     "name": "stdout",
     "output_type": "stream",
     "text": [
      "zero division error\n"
     ]
    }
   ],
   "source": [
    "def handleException(func):\n",
    "    def wrapper(*arg):\n",
    "        try:\n",
    "            func(*arg)\n",
    "        except ZeroDivisionError:\n",
    "            print('zero division error')\n",
    "        except TypeError:\n",
    "            print('Type Error')\n",
    "        except Exception:\n",
    "            print('Some sort of exception')\n",
    "    return wrapper\n",
    "    \n",
    "@handleException\n",
    "def causeError():\n",
    "    return 1/0\n",
    "\n",
    "causeError()"
   ]
  },
  {
   "cell_type": "markdown",
   "id": "fd9fa58c-859f-42fb-8422-49dbea04acef",
   "metadata": {},
   "source": [
    "RAISING EXCEPTION"
   ]
  },
  {
   "cell_type": "code",
   "execution_count": 80,
   "id": "a6a0bdf2-a1e6-4bb7-9a5b-f8239631c8a5",
   "metadata": {},
   "outputs": [
    {
     "name": "stdout",
     "output_type": "stream",
     "text": [
      "Some sort of exception\n"
     ]
    }
   ],
   "source": [
    "@handleException\n",
    "def raiseError():\n",
    "    raise Exception()\n",
    "    \n",
    "raiseError()"
   ]
  },
  {
   "cell_type": "markdown",
   "id": "5d855e48-12a9-4e55-b4ba-4786f00fd88a",
   "metadata": {},
   "source": [
    "CUSTOM EXCEPTION"
   ]
  },
  {
   "cell_type": "code",
   "execution_count": 85,
   "id": "41d1b3da-cb08-46b2-8062-ba345674856e",
   "metadata": {},
   "outputs": [
    {
     "ename": "ServerUP",
     "evalue": "Server is down with code 5090 and message is come",
     "output_type": "error",
     "traceback": [
      "\u001b[31m---------------------------------------------------------------------------\u001b[39m",
      "\u001b[31mServerUP\u001b[39m                                  Traceback (most recent call last)",
      "\u001b[36mCell\u001b[39m\u001b[36m \u001b[39m\u001b[32mIn[85]\u001b[39m\u001b[32m, line 18\u001b[39m\n\u001b[32m     15\u001b[39m \u001b[38;5;28;01mdef\u001b[39;00m\u001b[38;5;250m \u001b[39m\u001b[34mraiseException\u001b[39m():\n\u001b[32m     16\u001b[39m     \u001b[38;5;28;01mraise\u001b[39;00m ServerUP()\n\u001b[32m---> \u001b[39m\u001b[32m18\u001b[39m \u001b[43mraiseException\u001b[49m\u001b[43m(\u001b[49m\u001b[43m)\u001b[49m\n",
      "\u001b[36mCell\u001b[39m\u001b[36m \u001b[39m\u001b[32mIn[85]\u001b[39m\u001b[32m, line 16\u001b[39m, in \u001b[36mraiseException\u001b[39m\u001b[34m()\u001b[39m\n\u001b[32m     15\u001b[39m \u001b[38;5;28;01mdef\u001b[39;00m\u001b[38;5;250m \u001b[39m\u001b[34mraiseException\u001b[39m():\n\u001b[32m---> \u001b[39m\u001b[32m16\u001b[39m     \u001b[38;5;28;01mraise\u001b[39;00m ServerUP()\n",
      "\u001b[31mServerUP\u001b[39m: Server is down with code 5090 and message is come"
     ]
    }
   ],
   "source": [
    "class HttpException(Exception):\n",
    "    code= None\n",
    "    message= None\n",
    "    def __init__(self):\n",
    "        super().__init__(f'Server is down with code {self.code} and message is {self.message}')\n",
    "\n",
    "class ServerDown(HttpException):\n",
    "    code='505'\n",
    "    message='go away'\n",
    "\n",
    "class ServerUP(HttpException):\n",
    "    code='5090'\n",
    "    message='come' \n",
    "\n",
    "def raiseException():\n",
    "    raise ServerUP()\n",
    "\n",
    "raiseException()"
   ]
  },
  {
   "cell_type": "code",
   "execution_count": 90,
   "id": "ae335069-51b1-4761-9aa7-a4ef429614fd",
   "metadata": {},
   "outputs": [
    {
     "ename": "ServerUP",
     "evalue": "Server is down with code 5090 and message is come",
     "output_type": "error",
     "traceback": [
      "\u001b[31m---------------------------------------------------------------------------\u001b[39m",
      "\u001b[31mServerUP\u001b[39m                                  Traceback (most recent call last)",
      "\u001b[36mCell\u001b[39m\u001b[36m \u001b[39m\u001b[32mIn[90]\u001b[39m\u001b[32m, line 18\u001b[39m\n\u001b[32m     15\u001b[39m \u001b[38;5;28;01mdef\u001b[39;00m\u001b[38;5;250m \u001b[39m\u001b[34mraiseException\u001b[39m():\n\u001b[32m     16\u001b[39m     \u001b[38;5;28;01mraise\u001b[39;00m ServerUP()\n\u001b[32m---> \u001b[39m\u001b[32m18\u001b[39m \u001b[43mraiseException\u001b[49m\u001b[43m(\u001b[49m\u001b[43m)\u001b[49m\n",
      "\u001b[36mCell\u001b[39m\u001b[36m \u001b[39m\u001b[32mIn[90]\u001b[39m\u001b[32m, line 16\u001b[39m, in \u001b[36mraiseException\u001b[39m\u001b[34m()\u001b[39m\n\u001b[32m     15\u001b[39m \u001b[38;5;28;01mdef\u001b[39;00m\u001b[38;5;250m \u001b[39m\u001b[34mraiseException\u001b[39m():\n\u001b[32m---> \u001b[39m\u001b[32m16\u001b[39m     \u001b[38;5;28;01mraise\u001b[39;00m ServerUP()\n",
      "\u001b[31mServerUP\u001b[39m: Server is down with code 5090 and message is come"
     ]
    }
   ],
   "source": [
    "class HttpException(Exception):\n",
    "    code= None\n",
    "    message= None\n",
    "    def __init__(self):\n",
    "        super().__init__(f'Server is down with code {self.code} and message is {self.message}')\n",
    "\n",
    "class ServerDown(HttpException):\n",
    "    code='505'\n",
    "    message='go away'\n",
    "\n",
    "class ServerUP(HttpException):\n",
    "    code='5090'\n",
    "    message='come' \n",
    "\n",
    "def raiseException():\n",
    "    raise ServerUP()\n",
    "\n",
    "raiseException()"
   ]
  },
  {
   "cell_type": "code",
   "execution_count": 109,
   "id": "c94b9872-c536-4a7f-b401-070511e21a69",
   "metadata": {},
   "outputs": [
    {
     "name": "stdout",
     "output_type": "stream",
     "text": [
      "6\n"
     ]
    }
   ],
   "source": [
    "def handleNonIntArguments(func):\n",
    "    def wrapper(*args):\n",
    "        try:\n",
    "            func(*args)\n",
    "        except Exception:\n",
    "            print('NonIntArguementException')\n",
    "    return wrapper\n",
    "\n",
    "@handleNonIntArguments\n",
    "def NonIntArguementException(x,y,z):\n",
    "    if type(x) and type(y) and type(z) != int:\n",
    "        raise Exception\n",
    "    print(x+y+z)\n",
    "\n",
    "NonIntArguementException(1,2,3)"
   ]
  },
  {
   "cell_type": "code",
   "execution_count": 120,
   "id": "a270c96a-be49-47ea-bd59-2d94d747bdd1",
   "metadata": {},
   "outputs": [
    {
     "name": "stdout",
     "output_type": "stream",
     "text": [
      "5\n"
     ]
    }
   ],
   "source": [
    "def handleNonIntArguments(func):\n",
    "    def wrapper(*args):\n",
    "        try:\n",
    "            func(*args)\n",
    "        except TypeError:\n",
    "            print('NonIntArguementException')\n",
    "    return wrapper\n",
    "\n",
    "@handleNonIntArguments\n",
    "def NonIntArguementException(x,y,z):\n",
    "    print(x+y+z)\n",
    "\n",
    "NonIntArguementException(1,1,3)"
   ]
  },
  {
   "cell_type": "code",
   "execution_count": null,
   "id": "6bffe78b-991f-455a-9d88-5d9c2a5bbc63",
   "metadata": {},
   "outputs": [],
   "source": []
  }
 ],
 "metadata": {
  "kernelspec": {
   "display_name": "Python 3 (ipykernel)",
   "language": "python",
   "name": "python3"
  },
  "language_info": {
   "codemirror_mode": {
    "name": "ipython",
    "version": 3
   },
   "file_extension": ".py",
   "mimetype": "text/x-python",
   "name": "python",
   "nbconvert_exporter": "python",
   "pygments_lexer": "ipython3",
   "version": "3.13.2"
  }
 },
 "nbformat": 4,
 "nbformat_minor": 5
}
