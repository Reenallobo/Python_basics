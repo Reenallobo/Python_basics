{
 "cells": [
  {
   "cell_type": "code",
   "execution_count": 64,
   "id": "0eaf57c6-9e15-4a78-895d-14d18fc7f660",
   "metadata": {},
   "outputs": [],
   "source": [
    "import math"
   ]
  },
  {
   "cell_type": "code",
   "execution_count": 6,
   "id": "d81f4cac-3293-42ba-b0ef-673cbfe03ae8",
   "metadata": {},
   "outputs": [
    {
     "data": {
      "text/plain": [
       "1"
      ]
     },
     "execution_count": 6,
     "metadata": {},
     "output_type": "execute_result"
    }
   ],
   "source": [
    "def factorial(num):\n",
    "    # Your code goes here.  \n",
    "    if type(num)!=int or num<0:\n",
    "        return None\n",
    "    elif num == 0:\n",
    "        return 1\n",
    "\n",
    "factorial(0)"
   ]
  },
  {
   "cell_type": "code",
   "execution_count": 4,
   "id": "b22c7008-6222-43a9-a48b-f3ad8276bb74",
   "metadata": {},
   "outputs": [
    {
     "data": {
      "text/plain": [
       "1"
      ]
     },
     "execution_count": 4,
     "metadata": {},
     "output_type": "execute_result"
    }
   ],
   "source": []
  },
  {
   "cell_type": "code",
   "execution_count": 16,
   "id": "a4f753aa-1a80-4df5-8a0a-b71aa8d2483b",
   "metadata": {},
   "outputs": [
    {
     "data": {
      "text/plain": [
       "6.25"
      ]
     },
     "execution_count": 16,
     "metadata": {},
     "output_type": "execute_result"
    }
   ],
   "source": [
    "a=25/4\n",
    "a"
   ]
  },
  {
   "cell_type": "code",
   "execution_count": 12,
   "id": "0dea0f6f-563b-4fa7-a8fb-239fdcce0957",
   "metadata": {},
   "outputs": [
    {
     "data": {
      "text/plain": [
       "5"
      ]
     },
     "execution_count": 12,
     "metadata": {},
     "output_type": "execute_result"
    }
   ],
   "source": [
    " int(a)"
   ]
  },
  {
   "cell_type": "code",
   "execution_count": 17,
   "id": "65c37676-591d-4ccb-b19c-a9814a2b2f4e",
   "metadata": {},
   "outputs": [
    {
     "data": {
      "text/plain": [
       "6"
      ]
     },
     "execution_count": 17,
     "metadata": {},
     "output_type": "execute_result"
    }
   ],
   "source": [
    "round(a)"
   ]
  },
  {
   "cell_type": "code",
   "execution_count": 18,
   "id": "8faaf3ed-c96e-4441-b444-3cf1b0b0a0b5",
   "metadata": {},
   "outputs": [
    {
     "data": {
      "text/plain": [
       "4.667"
      ]
     },
     "execution_count": 18,
     "metadata": {},
     "output_type": "execute_result"
    }
   ],
   "source": [
    " round(14/3,3)"
   ]
  },
  {
   "cell_type": "code",
   "execution_count": 19,
   "id": "f50861ab-c99d-46eb-8eeb-11f74d2b9067",
   "metadata": {},
   "outputs": [
    {
     "data": {
      "text/plain": [
       "0.19999999999999996"
      ]
     },
     "execution_count": 19,
     "metadata": {},
     "output_type": "execute_result"
    }
   ],
   "source": [
    " 1.2-1.0"
   ]
  },
  {
   "cell_type": "code",
   "execution_count": 20,
   "id": "853ed6f1-8f58-44cd-bfbf-7fc1df9f6b2a",
   "metadata": {},
   "outputs": [
    {
     "data": {
      "text/plain": [
       "0"
      ]
     },
     "execution_count": 20,
     "metadata": {},
     "output_type": "execute_result"
    }
   ],
   "source": [
    "int(1.2-1.0)"
   ]
  },
  {
   "cell_type": "code",
   "execution_count": 23,
   "id": "caaf2528-bb07-4d1c-9030-0fd0b390e798",
   "metadata": {},
   "outputs": [
    {
     "data": {
      "text/plain": [
       "0.2"
      ]
     },
     "execution_count": 23,
     "metadata": {},
     "output_type": "execute_result"
    }
   ],
   "source": [
    "round(1.2-1.0,3)"
   ]
  },
  {
   "cell_type": "code",
   "execution_count": 25,
   "id": "f992dc83-6e19-41f4-8f75-0d3f4f79ed06",
   "metadata": {},
   "outputs": [
    {
     "data": {
      "text/plain": [
       "True"
      ]
     },
     "execution_count": 25,
     "metadata": {},
     "output_type": "execute_result"
    }
   ],
   "source": [
    "bool(True)"
   ]
  },
  {
   "cell_type": "code",
   "execution_count": 26,
   "id": "7589f8c6-ca65-488c-9a3c-434a9d4ce131",
   "metadata": {},
   "outputs": [
    {
     "data": {
      "text/plain": [
       "False"
      ]
     },
     "execution_count": 26,
     "metadata": {},
     "output_type": "execute_result"
    }
   ],
   "source": [
    "bool(False)\n"
   ]
  },
  {
   "cell_type": "code",
   "execution_count": 27,
   "id": "2755c36f-98f8-4ec0-90fb-11c8fecacbda",
   "metadata": {},
   "outputs": [
    {
     "data": {
      "text/plain": [
       "True"
      ]
     },
     "execution_count": 27,
     "metadata": {},
     "output_type": "execute_result"
    }
   ],
   "source": [
    "bool('False')"
   ]
  },
  {
   "cell_type": "code",
   "execution_count": 28,
   "id": "7294e983-59fb-4d6c-9a19-e78b48bf9002",
   "metadata": {},
   "outputs": [
    {
     "data": {
      "text/plain": [
       "True"
      ]
     },
     "execution_count": 28,
     "metadata": {},
     "output_type": "execute_result"
    }
   ],
   "source": [
    "bool(1)\n"
   ]
  },
  {
   "cell_type": "code",
   "execution_count": 29,
   "id": "ed6d6db0-fa61-41fd-add6-a4c115a3f893",
   "metadata": {},
   "outputs": [
    {
     "data": {
      "text/plain": [
       "False"
      ]
     },
     "execution_count": 29,
     "metadata": {},
     "output_type": "execute_result"
    }
   ],
   "source": [
    "bool(0)"
   ]
  },
  {
   "cell_type": "code",
   "execution_count": 30,
   "id": "00cb9dff-4270-4bff-840d-2259e5760aeb",
   "metadata": {},
   "outputs": [
    {
     "data": {
      "text/plain": [
       "False"
      ]
     },
     "execution_count": 30,
     "metadata": {},
     "output_type": "execute_result"
    }
   ],
   "source": [
    "bool(0j)"
   ]
  },
  {
   "cell_type": "code",
   "execution_count": 31,
   "id": "7a6e46b7-d6c0-4dad-8d9b-6179bba2eb20",
   "metadata": {},
   "outputs": [
    {
     "data": {
      "text/plain": [
       "True"
      ]
     },
     "execution_count": 31,
     "metadata": {},
     "output_type": "execute_result"
    }
   ],
   "source": [
    "bool(1j)"
   ]
  },
  {
   "cell_type": "code",
   "execution_count": 32,
   "id": "e0125888-0a1e-46c0-bcf1-156fec0a0206",
   "metadata": {},
   "outputs": [
    {
     "data": {
      "text/plain": [
       "False"
      ]
     },
     "execution_count": 32,
     "metadata": {},
     "output_type": "execute_result"
    }
   ],
   "source": [
    "bool()\n"
   ]
  },
  {
   "cell_type": "code",
   "execution_count": 33,
   "id": "3aea598d-a98f-4996-bb8d-b25f63b21184",
   "metadata": {},
   "outputs": [
    {
     "data": {
      "text/plain": [
       "False"
      ]
     },
     "execution_count": 33,
     "metadata": {},
     "output_type": "execute_result"
    }
   ],
   "source": [
    "bool('')"
   ]
  },
  {
   "cell_type": "code",
   "execution_count": 34,
   "id": "3d3cd2bf-74ca-44d0-bb9a-73a586428a68",
   "metadata": {},
   "outputs": [
    {
     "data": {
      "text/plain": [
       "True"
      ]
     },
     "execution_count": 34,
     "metadata": {},
     "output_type": "execute_result"
    }
   ],
   "source": [
    "bool(' ')"
   ]
  },
  {
   "cell_type": "code",
   "execution_count": 36,
   "id": "b21e841a-069b-4710-83ff-5d9a9497a1d8",
   "metadata": {},
   "outputs": [
    {
     "data": {
      "text/plain": [
       "False"
      ]
     },
     "execution_count": 36,
     "metadata": {},
     "output_type": "execute_result"
    }
   ],
   "source": [
    "bool([])"
   ]
  },
  {
   "cell_type": "code",
   "execution_count": 37,
   "id": "e518f275-f47a-4425-8e5c-abf445dc6619",
   "metadata": {},
   "outputs": [
    {
     "data": {
      "text/plain": [
       "False"
      ]
     },
     "execution_count": 37,
     "metadata": {},
     "output_type": "execute_result"
    }
   ],
   "source": [
    "bool({})"
   ]
  },
  {
   "cell_type": "code",
   "execution_count": 38,
   "id": "0da5c6b3-98d7-4c50-a023-6594d4514a31",
   "metadata": {},
   "outputs": [
    {
     "data": {
      "text/plain": [
       "True"
      ]
     },
     "execution_count": 38,
     "metadata": {},
     "output_type": "execute_result"
    }
   ],
   "source": [
    "bool([1,2,3])"
   ]
  },
  {
   "cell_type": "code",
   "execution_count": 39,
   "id": "39639491-f5c7-44b8-af4c-4001ee59542c",
   "metadata": {},
   "outputs": [
    {
     "name": "stdout",
     "output_type": "stream",
     "text": [
      "1\n"
     ]
    }
   ],
   "source": [
    "list=[1,2,3]\n",
    "if list:\n",
    "    print (1)"
   ]
  },
  {
   "cell_type": "code",
   "execution_count": 46,
   "id": "1cf89235-2bb2-4513-b8a9-f28f35eac8bf",
   "metadata": {},
   "outputs": [],
   "source": [
    "mylist= ['a','b','c']\n"
   ]
  },
  {
   "cell_type": "code",
   "execution_count": 50,
   "id": "68d29ac3-6943-4e00-870d-94efbb6296b5",
   "metadata": {},
   "outputs": [
    {
     "data": {
      "text/plain": [
       "['a', 'b']"
      ]
     },
     "execution_count": 50,
     "metadata": {},
     "output_type": "execute_result"
    }
   ],
   "source": [
    "mylist[0:2]"
   ]
  },
  {
   "cell_type": "code",
   "execution_count": 53,
   "id": "a10055ce-00bf-4e7c-b7d5-9da88a252233",
   "metadata": {},
   "outputs": [
    {
     "ename": "SyntaxError",
     "evalue": "unterminated string literal (detected at line 1) (2947626044.py, line 1)",
     "output_type": "error",
     "traceback": [
      "  \u001b[36mCell\u001b[39m\u001b[36m \u001b[39m\u001b[32mIn[53]\u001b[39m\u001b[32m, line 1\u001b[39m\n\u001b[31m    \u001b[39m\u001b[31mstr='i am beautiful\u001b[39m\n        ^\n\u001b[31mSyntaxError\u001b[39m\u001b[31m:\u001b[39m unterminated string literal (detected at line 1)\n"
     ]
    }
   ],
   "source": [
    "str='i am beautiful\n",
    "i am'\n",
    "len(str)"
   ]
  },
  {
   "cell_type": "code",
   "execution_count": 52,
   "id": "7f758e6b-df76-40d0-9348-7072a6c47649",
   "metadata": {},
   "outputs": [
    {
     "data": {
      "text/plain": [
       "'iful'"
      ]
     },
     "execution_count": 52,
     "metadata": {},
     "output_type": "execute_result"
    }
   ],
   "source": [
    "str[10:]"
   ]
  },
  {
   "cell_type": "code",
   "execution_count": 54,
   "id": "73f70261-168f-40a4-a801-58ea15b74800",
   "metadata": {},
   "outputs": [
    {
     "data": {
      "text/plain": [
       "'I am beautiful'"
      ]
     },
     "execution_count": 54,
     "metadata": {},
     "output_type": "execute_result"
    }
   ],
   "source": [
    "f'I am beautiful'"
   ]
  },
  {
   "cell_type": "code",
   "execution_count": 56,
   "id": "3d74ab00-8395-418a-b3f8-abe8ddbfd625",
   "metadata": {},
   "outputs": [
    {
     "data": {
      "text/plain": [
       "'I am beautiful 5'"
      ]
     },
     "execution_count": 56,
     "metadata": {},
     "output_type": "execute_result"
    }
   ],
   "source": [
    "f'I am beautiful 5'"
   ]
  },
  {
   "cell_type": "code",
   "execution_count": 60,
   "id": "2d8a54cb-0de4-41ed-a30a-075c5aa62acc",
   "metadata": {},
   "outputs": [
    {
     "data": {
      "text/plain": [
       "'i am beautiful int(5*5)'"
      ]
     },
     "execution_count": 60,
     "metadata": {},
     "output_type": "execute_result"
    }
   ],
   "source": [
    "strg= 'i am beautiful int(5*5)'\n",
    "strg"
   ]
  },
  {
   "cell_type": "code",
   "execution_count": 61,
   "id": "5665f842-4eaa-4b30-9a57-44baba0e8962",
   "metadata": {},
   "outputs": [
    {
     "data": {
      "text/plain": [
       "'i am beautiful 25'"
      ]
     },
     "execution_count": 61,
     "metadata": {},
     "output_type": "execute_result"
    }
   ],
   "source": [
    "f'i am beautiful {5*5}'"
   ]
  },
  {
   "cell_type": "code",
   "execution_count": 62,
   "id": "cc6b4ef0-6475-4317-ac98-ab02e964d20b",
   "metadata": {},
   "outputs": [
    {
     "data": {
      "text/plain": [
       "'math.pi'"
      ]
     },
     "execution_count": 62,
     "metadata": {},
     "output_type": "execute_result"
    }
   ],
   "source": [
    "f'math.pi'"
   ]
  },
  {
   "cell_type": "code",
   "execution_count": 67,
   "id": "e76c7d46-10a4-4637-b66e-b92de26cf295",
   "metadata": {},
   "outputs": [
    {
     "data": {
      "text/plain": [
       "'pi is: 3.1'"
      ]
     },
     "execution_count": 67,
     "metadata": {},
     "output_type": "execute_result"
    }
   ],
   "source": [
    "f'pi is: {math.pi:.2}'"
   ]
  },
  {
   "cell_type": "code",
   "execution_count": 80,
   "id": "e61516e1-5276-4e87-981f-6533c6769211",
   "metadata": {},
   "outputs": [],
   "source": [
    "strn_1 = ''' Hi\n",
    "I am here\n",
    "did u know?'\\'\\'\\\n",
    "\n",
    "'''"
   ]
  },
  {
   "cell_type": "code",
   "execution_count": 81,
   "id": "f25010d9-b151-491c-8415-1a8f5a23c4da",
   "metadata": {},
   "outputs": [
    {
     "name": "stdout",
     "output_type": "stream",
     "text": [
      " Hi\n",
      "I am here\n",
      "did u know?'''\n",
      "\n"
     ]
    }
   ],
   "source": [
    "print(strn_1)"
   ]
  },
  {
   "cell_type": "code",
   "execution_count": 82,
   "id": "6fce76d4-5b8b-44e4-a9bb-c3f5771192d3",
   "metadata": {},
   "outputs": [
    {
     "data": {
      "text/plain": [
       "b'\\x00\\x00\\x00\\x00'"
      ]
     },
     "execution_count": 82,
     "metadata": {},
     "output_type": "execute_result"
    }
   ],
   "source": [
    "bytes(4)\n"
   ]
  },
  {
   "cell_type": "code",
   "execution_count": 83,
   "id": "2c1e2c12-f774-4112-92d2-3911f64f85f2",
   "metadata": {},
   "outputs": [
    {
     "data": {
      "text/plain": [
       "b'\\x00\\x00\\x00\\x00\\x00\\x00'"
      ]
     },
     "execution_count": 83,
     "metadata": {},
     "output_type": "execute_result"
    }
   ],
   "source": [
    "bytes(6)"
   ]
  },
  {
   "cell_type": "code",
   "execution_count": 91,
   "id": "b3a241d5-07e8-4760-bade-7055d976848b",
   "metadata": {},
   "outputs": [],
   "source": [
    "smiley=bytes('😂', 'utf-8')"
   ]
  },
  {
   "cell_type": "code",
   "execution_count": 100,
   "id": "d3384d25-36a6-4b6a-bda5-1f77cf720810",
   "metadata": {},
   "outputs": [
    {
     "data": {
      "text/plain": [
       "b'\\xf0\\x9f\\x98\\x82'"
      ]
     },
     "execution_count": 100,
     "metadata": {},
     "output_type": "execute_result"
    }
   ],
   "source": [
    "smiley"
   ]
  },
  {
   "cell_type": "code",
   "execution_count": 101,
   "id": "38a2476b-0daf-4e06-90a5-5de6e89526bd",
   "metadata": {},
   "outputs": [
    {
     "data": {
      "text/plain": [
       "'😂'"
      ]
     },
     "execution_count": 101,
     "metadata": {},
     "output_type": "execute_result"
    }
   ],
   "source": [
    "smiley.decode('utf-8')\n"
   ]
  },
  {
   "cell_type": "code",
   "execution_count": 112,
   "id": "28139495-53b5-4ac9-a28a-69cd3d22c735",
   "metadata": {},
   "outputs": [],
   "source": [
    "smileyA=bytearray('😊','utf-8')"
   ]
  },
  {
   "cell_type": "code",
   "execution_count": 113,
   "id": "ff45b2c4-56cc-406b-9fac-4a6260de1fe7",
   "metadata": {},
   "outputs": [
    {
     "data": {
      "text/plain": [
       "bytearray(b'\\xf0\\x9f\\x98\\x8a')"
      ]
     },
     "execution_count": 113,
     "metadata": {},
     "output_type": "execute_result"
    }
   ],
   "source": [
    "smileyA"
   ]
  },
  {
   "cell_type": "code",
   "execution_count": 114,
   "id": "e2dd9180-9911-455a-afe7-434e3b47498a",
   "metadata": {},
   "outputs": [
    {
     "data": {
      "text/plain": [
       "240"
      ]
     },
     "execution_count": 114,
     "metadata": {},
     "output_type": "execute_result"
    }
   ],
   "source": [
    "smiley[0]"
   ]
  },
  {
   "cell_type": "code",
   "execution_count": 115,
   "id": "5122607e-796e-40e5-a42a-1da88b3f7916",
   "metadata": {},
   "outputs": [],
   "source": [
    "smileyA[2]=int('9f',16)"
   ]
  },
  {
   "cell_type": "code",
   "execution_count": 116,
   "id": "a14f6bc3-b613-4590-ad6a-d1c6a4a1e86a",
   "metadata": {},
   "outputs": [
    {
     "data": {
      "text/plain": [
       "159"
      ]
     },
     "execution_count": 116,
     "metadata": {},
     "output_type": "execute_result"
    }
   ],
   "source": [
    "smileyA[2]"
   ]
  },
  {
   "cell_type": "code",
   "execution_count": 117,
   "id": "f2f035f7-1932-42c2-a191-210ef16d1d6a",
   "metadata": {},
   "outputs": [
    {
     "data": {
      "text/plain": [
       "'🟊'"
      ]
     },
     "execution_count": 117,
     "metadata": {},
     "output_type": "execute_result"
    }
   ],
   "source": [
    "smileyA.decode('utf-8')"
   ]
  },
  {
   "cell_type": "code",
   "execution_count": 118,
   "id": "afaecbe3-ffe1-479e-90d0-203ff531e680",
   "metadata": {},
   "outputs": [],
   "source": [
    "dec= int('CAB',16)"
   ]
  },
  {
   "cell_type": "code",
   "execution_count": 119,
   "id": "21d80d26-ff0e-47d5-b7a8-780fb8df0bf9",
   "metadata": {},
   "outputs": [
    {
     "data": {
      "text/plain": [
       "3243"
      ]
     },
     "execution_count": 119,
     "metadata": {},
     "output_type": "execute_result"
    }
   ],
   "source": [
    "dec"
   ]
  },
  {
   "cell_type": "code",
   "execution_count": 154,
   "id": "ee5c668d-f34b-47eb-90d0-3c99fc847899",
   "metadata": {},
   "outputs": [],
   "source": [
    "hexNumbers = {\n",
    "    '0': 0, '1': 1, '2': 2, '3': 3, '4': 4, '5': 5, '6': 6, '7': 7, '8': 8, '9': 9,\n",
    "    'A': 10, 'B': 11, 'C': 12, 'D': 13, 'E': 14, 'F': 15\n",
    "}"
   ]
  },
  {
   "cell_type": "code",
   "execution_count": 163,
   "id": "b950a3a9-5cdd-466a-a2cf-294da3fa6344",
   "metadata": {},
   "outputs": [
    {
     "ename": "TypeError",
     "evalue": "object of type 'int' has no len()",
     "output_type": "error",
     "traceback": [
      "\u001b[31m---------------------------------------------------------------------------\u001b[39m",
      "\u001b[31mTypeError\u001b[39m                                 Traceback (most recent call last)",
      "\u001b[36mCell\u001b[39m\u001b[36m \u001b[39m\u001b[32mIn[163]\u001b[39m\u001b[32m, line 13\u001b[39m\n\u001b[32m      9\u001b[39m         \u001b[38;5;28mhex\u001b[39m=Conversion*\u001b[32m16\u001b[39m**i+hexToDec(length-\u001b[32m1\u001b[39m)\n\u001b[32m     10\u001b[39m         \u001b[38;5;28mprint\u001b[39m(\u001b[38;5;28mhex\u001b[39m)\n\u001b[32m---> \u001b[39m\u001b[32m13\u001b[39m \u001b[43mhexToDec\u001b[49m\u001b[43m(\u001b[49m\u001b[33;43m'\u001b[39;49m\u001b[33;43mAB\u001b[39;49m\u001b[33;43m'\u001b[39;49m\u001b[43m)\u001b[49m\n",
      "\u001b[36mCell\u001b[39m\u001b[36m \u001b[39m\u001b[32mIn[163]\u001b[39m\u001b[32m, line 9\u001b[39m, in \u001b[36mhexToDec\u001b[39m\u001b[34m(num)\u001b[39m\n\u001b[32m      7\u001b[39m \u001b[38;5;66;03m#print(Conversion)\u001b[39;00m\n\u001b[32m      8\u001b[39m \u001b[38;5;28;01mfor\u001b[39;00m i \u001b[38;5;129;01min\u001b[39;00m \u001b[38;5;28mrange\u001b[39m(\u001b[32m0\u001b[39m,length,\u001b[32m1\u001b[39m):\n\u001b[32m----> \u001b[39m\u001b[32m9\u001b[39m     \u001b[38;5;28mhex\u001b[39m=Conversion*\u001b[32m16\u001b[39m**i+\u001b[43mhexToDec\u001b[49m\u001b[43m(\u001b[49m\u001b[43mlength\u001b[49m\u001b[43m-\u001b[49m\u001b[32;43m1\u001b[39;49m\u001b[43m)\u001b[49m\n\u001b[32m     10\u001b[39m     \u001b[38;5;28mprint\u001b[39m(\u001b[38;5;28mhex\u001b[39m)\n",
      "\u001b[36mCell\u001b[39m\u001b[36m \u001b[39m\u001b[32mIn[163]\u001b[39m\u001b[32m, line 5\u001b[39m, in \u001b[36mhexToDec\u001b[39m\u001b[34m(num)\u001b[39m\n\u001b[32m      1\u001b[39m \u001b[38;5;28;01mdef\u001b[39;00m\u001b[38;5;250m \u001b[39m\u001b[34mhexToDec\u001b[39m(num):\n\u001b[32m      2\u001b[39m     \u001b[38;5;66;03m#a=num[0]\u001b[39;00m\n\u001b[32m      3\u001b[39m     \u001b[38;5;66;03m#ab=hexNumbers[num[0]]\u001b[39;00m\n\u001b[32m      4\u001b[39m     \u001b[38;5;66;03m#ba=hexNumbers[num[1]]\u001b[39;00m\n\u001b[32m----> \u001b[39m\u001b[32m5\u001b[39m     length=\u001b[38;5;28;43mlen\u001b[39;49m\u001b[43m(\u001b[49m\u001b[43mnum\u001b[49m\u001b[43m)\u001b[49m-\u001b[32m1\u001b[39m\n\u001b[32m      6\u001b[39m     Conversion=hexNumbers[num[length]]\n\u001b[32m      7\u001b[39m     \u001b[38;5;66;03m#print(Conversion)\u001b[39;00m\n",
      "\u001b[31mTypeError\u001b[39m: object of type 'int' has no len()"
     ]
    }
   ],
   "source": [
    "def hexToDec(num):\n",
    "    #a=num[0]\n",
    "    #ab=hexNumbers[num[0]]\n",
    "    #ba=hexNumbers[num[1]]\n",
    "    length=len(num)-1\n",
    "    Conversion=hexNumbers[num[length]]\n",
    "    #print(Conversion)\n",
    "    for i in range(0,length,1):\n",
    "        hex=Conversion*16**i+hexToDec(length-1)\n",
    "        print(hex)\n",
    "    \n",
    "\n",
    "hexToDec('AB')"
   ]
  },
  {
   "cell_type": "code",
   "execution_count": null,
   "id": "b073d737-692e-4ab1-8710-245820d252e3",
   "metadata": {},
   "outputs": [],
   "source": [
    "hexNumbers = {\n",
    "    '0': 0, '1': 1, '2': 2, '3': 3, '4': 4, '5': 5, '6': 6, '7': 7, '8': 8, '9': 9,\n",
    "    'A': 10, 'B': 11, 'C': 12, 'D': 13, 'E': 14, 'F': 15\n",
    "}\n",
    "string='LBC'\n",
    "length=len(string)\n",
    "print(length)\n",
    "#for i in range(0,length,1):\n",
    "    #mylist[i]=string[i]\n",
    "for char in string:\n",
    "    if char not in hexNumbers:\n",
    "        print(f'{char} is not a hexadecimal nr')\n",
    "            \n",
    "        #else:\n",
    "            #while (i<length):\n",
    "                #mylist[i]=hexNumbers[string[i]]\n",
    "                #print(mylist)\n",
    "    \n",
    "            #counter= length-1\n",
    "            #mylist[i]=mylist[i]*16**(counter)\n",
    "    \n",
    "      \n",
    "    \n"
   ]
  },
  {
   "cell_type": "code",
   "execution_count": null,
   "id": "2cfd9467-01b5-4da9-a2b8-0922870fac35",
   "metadata": {},
   "outputs": [],
   "source": []
  }
 ],
 "metadata": {
  "kernelspec": {
   "display_name": "Python 3 (ipykernel)",
   "language": "python",
   "name": "python3"
  },
  "language_info": {
   "codemirror_mode": {
    "name": "ipython",
    "version": 3
   },
   "file_extension": ".py",
   "mimetype": "text/x-python",
   "name": "python",
   "nbconvert_exporter": "python",
   "pygments_lexer": "ipython3",
   "version": "3.13.2"
  }
 },
 "nbformat": 4,
 "nbformat_minor": 5
}
