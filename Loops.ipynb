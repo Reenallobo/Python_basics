{
 "cells": [
  {
   "cell_type": "code",
   "execution_count": 156,
   "id": "d972c2e8-1e58-4a3f-a648-0bdf5db0b233",
   "metadata": {},
   "outputs": [],
   "source": [
    "import math"
   ]
  },
  {
   "cell_type": "code",
   "execution_count": 2,
   "id": "990dc070-9940-4037-8b3a-a80a11aface1",
   "metadata": {},
   "outputs": [],
   "source": [
    "from datetime import datetime"
   ]
  },
  {
   "cell_type": "code",
   "execution_count": 18,
   "id": "49780ecb-eab1-43d4-9800-21f4706a872c",
   "metadata": {},
   "outputs": [
    {
     "data": {
      "text/plain": [
       "3"
      ]
     },
     "execution_count": 18,
     "metadata": {},
     "output_type": "execute_result"
    }
   ],
   "source": [
    "datetime.now().second+2"
   ]
  },
  {
   "cell_type": "markdown",
   "id": "dbe3259e-6a63-4088-b7f1-e3c22409ad03",
   "metadata": {},
   "source": [
    "#pass"
   ]
  },
  {
   "cell_type": "code",
   "execution_count": 59,
   "id": "e6f7d90c-aaac-42b5-a36b-6eab4f242dfd",
   "metadata": {},
   "outputs": [
    {
     "name": "stdout",
     "output_type": "stream",
     "text": [
      "waiting until 28\n"
     ]
    }
   ],
   "source": [
    "#break\n",
    "wait_until=(datetime.now().second+2)%60\n",
    "while True:\n",
    "    if datetime.now().second==wait_until:\n",
    "        print(f'waiting until {wait_until}')\n",
    "        break"
   ]
  },
  {
   "cell_type": "code",
   "execution_count": 71,
   "id": "6f35d363-d3c2-4cb3-ac0c-865ec1e128be",
   "metadata": {},
   "outputs": [
    {
     "name": "stdout",
     "output_type": "stream",
     "text": [
      "we are at 44\n"
     ]
    }
   ],
   "source": [
    "#continue\n",
    "wait_untill= (datetime.now().second+2)%60\n",
    "while datetime.now().second!= wait_untill:\n",
    "    continue\n",
    "    print('abc')\n",
    "print(f'we are at {wait_untill}')"
   ]
  },
  {
   "cell_type": "code",
   "execution_count": 82,
   "id": "04056dbd-9992-4166-91c9-abc09413a38f",
   "metadata": {},
   "outputs": [
    {
     "name": "stdout",
     "output_type": "stream",
     "text": [
      "4\n"
     ]
    }
   ],
   "source": [
    "wait_untill= (datetime.now().second+2)%60\n",
    "while True:\n",
    "    if datetime.now().second<wait_untill:\n",
    "        \n",
    "        continue\n",
    "    break\n",
    "    \n",
    "    \n",
    "print(f'{wait_untill}')"
   ]
  },
  {
   "cell_type": "code",
   "execution_count": 139,
   "id": "15fd5465-7fc0-46e6-920c-fb008bdfc7f2",
   "metadata": {},
   "outputs": [],
   "source": [
    "#for loop\n",
    "\n",
    "animal={'a':['anta','apple'],\n",
    "        'b':['ball'],\n",
    "        'c':['cat']}\n"
   ]
  },
  {
   "cell_type": "code",
   "execution_count": 140,
   "id": "d6cb1ed4-93aa-4539-954f-4d575d7a6272",
   "metadata": {},
   "outputs": [
    {
     "name": "stdout",
     "output_type": "stream",
     "text": [
      "a ['anta', 'apple']\n",
      "b ['ball']\n",
      "c ['cat']\n"
     ]
    }
   ],
   "source": [
    "for a,b in animal.items():\n",
    "    print(a,b)\n",
    "    "
   ]
  },
  {
   "cell_type": "code",
   "execution_count": 141,
   "id": "04e14fa1-20a4-4c54-b6d1-d065943008a6",
   "metadata": {},
   "outputs": [
    {
     "name": "stdout",
     "output_type": "stream",
     "text": [
      "2\n",
      "1\n",
      "1\n"
     ]
    }
   ],
   "source": [
    "for a,b in animal.items():\n",
    "    print(len(b))"
   ]
  },
  {
   "cell_type": "code",
   "execution_count": 144,
   "id": "e192f94e-7215-40cd-8931-bcb5b27cb504",
   "metadata": {},
   "outputs": [
    {
     "name": "stdout",
     "output_type": "stream",
     "text": [
      "greater than 1['anta', 'apple']\n",
      "['ball']\n",
      "['cat']\n"
     ]
    }
   ],
   "source": [
    "for a,b in animal.items():\n",
    "    if len(b)>1:\n",
    "        continue   \n",
    "    print(f'{b}')\n"
   ]
  },
  {
   "cell_type": "code",
   "execution_count": 155,
   "id": "deb94446-35f2-4f8d-a0c0-53e8e4be9b96",
   "metadata": {},
   "outputs": [
    {
     "name": "stdout",
     "output_type": "stream",
     "text": [
      "found 2: ['anta', 'apple']\n"
     ]
    }
   ],
   "source": [
    "for a,b in animal.items():\n",
    "    if len(b)>=1:\n",
    "        print(f'found {len(b)}: {b}')\n",
    "        break\n"
   ]
  },
  {
   "cell_type": "code",
   "execution_count": 350,
   "id": "ffec17cf-83b8-4372-9bca-e315bfb00854",
   "metadata": {},
   "outputs": [],
   "source": [
    "def allPrimesUpTo(num):\n",
    "    mylist=[2]\n",
    "    for n in range(3,num):\n",
    "        for i in range((len(mylist))):\n",
    "            if n%mylist[i]==0:\n",
    "        \n",
    "    #for i in range(2,int(math.sqrt(n))+1):\n",
    "        #if num%i==0:\n",
    "                break\n",
    "        else:\n",
    "             mylist.append(n)\n",
    "    return(mylist)\n",
    "    \n",
    "\n",
    "    "
   ]
  },
  {
   "cell_type": "code",
   "execution_count": 351,
   "id": "e3140189-7c8f-4e7a-b925-7bba1b5fce3d",
   "metadata": {},
   "outputs": [
    {
     "data": {
      "text/plain": [
       "[2, 3, 5, 7]"
      ]
     },
     "execution_count": 351,
     "metadata": {},
     "output_type": "execute_result"
    }
   ],
   "source": [
    "allPrimesUpTo(10)\n",
    "   "
   ]
  },
  {
   "cell_type": "code",
   "execution_count": 353,
   "id": "d2a48fed-27da-40c1-9cea-2f12095b6c7a",
   "metadata": {},
   "outputs": [],
   "source": [
    "for number in range(1, 100):\n",
    "    if number % 10 == 0:\n",
    "        break\n",
    "else:\n",
    "    print('Let\\'s print something out!')"
   ]
  },
  {
   "cell_type": "code",
   "execution_count": 352,
   "id": "b7970f33-01ce-419a-9770-16b5bd9387cf",
   "metadata": {},
   "outputs": [
    {
     "name": "stdout",
     "output_type": "stream",
     "text": [
      "Let's print something out!\n"
     ]
    }
   ],
   "source": [
    "for number in range(1, 9):\n",
    "    if number % 10 == 0:\n",
    "        break\n",
    "else:\n",
    "    print('Let\\'s print something out!')"
   ]
  },
  {
   "cell_type": "code",
   "execution_count": null,
   "id": "18a71850-a34f-424b-b4d7-036924ee4812",
   "metadata": {},
   "outputs": [],
   "source": []
  }
 ],
 "metadata": {
  "kernelspec": {
   "display_name": "Python 3 (ipykernel)",
   "language": "python",
   "name": "python3"
  },
  "language_info": {
   "codemirror_mode": {
    "name": "ipython",
    "version": 3
   },
   "file_extension": ".py",
   "mimetype": "text/x-python",
   "name": "python",
   "nbconvert_exporter": "python",
   "pygments_lexer": "ipython3",
   "version": "3.13.2"
  }
 },
 "nbformat": 4,
 "nbformat_minor": 5
}
