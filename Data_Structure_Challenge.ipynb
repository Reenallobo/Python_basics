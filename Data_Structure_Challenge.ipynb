{
 "cells": [
  {
   "cell_type": "code",
   "execution_count": null,
   "id": "d4c88f14-08ef-4ebc-a372-0e708a884994",
   "metadata": {},
   "outputs": [],
   "source": [
    "def StrNr(Word):\n",
    "    myList=list(Word)\n",
    "\n",
    "    counter=0\n",
    "    print(len(myList))\n",
    "    while len(myList):\n",
    "        [item for item in myList if item in myList]\n",
    "        \n",
    "        counter+=1\n",
    "    return item,counter\n",
    "\n",
    "StrNr('ABA')\n"
   ]
  },
  {
   "cell_type": "code",
   "execution_count": null,
   "id": "eed73d38-4991-4501-a967-ed88bf55d8e6",
   "metadata": {},
   "outputs": [],
   "source": []
  },
  {
   "cell_type": "code",
   "execution_count": null,
   "id": "1d8dcd3d-461f-449d-8142-5a7b168e50ab",
   "metadata": {},
   "outputs": [],
   "source": []
  }
 ],
 "metadata": {
  "kernelspec": {
   "display_name": "Python 3 (ipykernel)",
   "language": "python",
   "name": "python3"
  },
  "language_info": {
   "codemirror_mode": {
    "name": "ipython",
    "version": 3
   },
   "file_extension": ".py",
   "mimetype": "text/x-python",
   "name": "python",
   "nbconvert_exporter": "python",
   "pygments_lexer": "ipython3",
   "version": "3.13.2"
  }
 },
 "nbformat": 4,
 "nbformat_minor": 5
}
